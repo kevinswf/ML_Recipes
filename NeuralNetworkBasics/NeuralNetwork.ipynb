{
 "cells": [
  {
   "cell_type": "code",
   "execution_count": 1,
   "metadata": {},
   "outputs": [],
   "source": [
    "import math\n",
    "import numpy as np\n",
    "import random\n",
    "import matplotlib.pyplot as plt\n",
    "from graphviz import Digraph\n",
    "\n",
    "import torch"
   ]
  },
  {
   "cell_type": "code",
   "execution_count": 2,
   "metadata": {},
   "outputs": [],
   "source": [
    "# create our own single-element tensor-like data structure\n",
    "class Value:\n",
    "    \n",
    "    def __init__(self, data, _parent=(), _operation='', label=''):\n",
    "        self.data = data\n",
    "        self.grad = 0.0  # keep track the gradient of this value, i.e. how it affects the final mathmatical expression output, i.e. calculated by backprop\n",
    "        self._backward = lambda: None  # a function that propagates gradient back to calculate gradient\n",
    "        self._prev = _parent  # keep track of which two Values created this value\n",
    "        self._op = _operation  # keep track of what operation created this value\n",
    "        self.label = label\n",
    "\n",
    "    def __repr__(self):\n",
    "        return f\"Value(data={self.data})\"\n",
    "\n",
    "    # define + operator\n",
    "    def __add__(self, other):\n",
    "        # check if other is a Value object, if not, cast it to Value\n",
    "        other = other if isinstance(other, Value) else Value(other)\n",
    "\n",
    "        out = Value(self.data + other.data, (self, other), '+')\n",
    "\n",
    "        # + operator just propagates grad back\n",
    "        def _backward():\n",
    "            self.grad += out.grad\n",
    "            other.grad += out.grad\n",
    "        out._backward = _backward\n",
    "\n",
    "        return out\n",
    "\n",
    "    # define other + self (for expressions like int + Value, which gets converted to Value + int by this function)\n",
    "    def __radd__(self, other):\n",
    "        return self + other\n",
    "\n",
    "    # define -self\n",
    "    def __neg__(self):\n",
    "        return self * -1\n",
    "\n",
    "    # define subtraction as self + (-other)\n",
    "    def __sub__(self, other):\n",
    "        return self + (-other)\n",
    "\n",
    "    # define * operator\n",
    "    def __mul__(self, other):\n",
    "         # check if other is a Value object, if not, cast it to Value\n",
    "        other = other if isinstance(other, Value) else Value(other)\n",
    "        \n",
    "        out = Value(self.data * other.data, (self, other), '*')\n",
    "\n",
    "        # local derivative of a * operator is just the other input, then multiply local derivative with the grad of output (backprop gradient)\n",
    "        def _backward():\n",
    "            self.grad += other.data * out.grad\n",
    "            other.grad += self.data * out.grad\n",
    "        out._backward = _backward\n",
    "\n",
    "        return out\n",
    "\n",
    "    # define other * self (for expressions like int * Value, which gets converted to Value * int by this function)\n",
    "    def __rmul__(self, other):\n",
    "        return self * other\n",
    "\n",
    "    # define division, a / b is just a * 1/b -> a * b**-1\n",
    "    def __truediv__(self, other):\n",
    "        return self * other**-1\n",
    "\n",
    "    # define power function\n",
    "    def __pow__(self, other):\n",
    "        assert isinstance(other, (int, float)), \"only support int/float powers for now\"\n",
    "        out = Value(self.data**other, (self, ), f'**{other}')\n",
    "\n",
    "        # derivative of x^y is yx^(y-1), then multiply the grad of output\n",
    "        def _backward():\n",
    "            self.grad += other * self.data**(other-1) * out.grad\n",
    "        out._backward = _backward\n",
    "\n",
    "        return out\n",
    "\n",
    "    # define e^x\n",
    "    def exp(self):\n",
    "        x = self.data\n",
    "        out = Value(math.exp(x), (self, ), 'exp')\n",
    "\n",
    "        # derivative of e^x is just e^x, then multiply the grad of output\n",
    "        def _backward():\n",
    "            self.grad += out.data * out.grad\n",
    "        out._backward = _backward\n",
    "\n",
    "        return out\n",
    "\n",
    "    # define tanh activation\n",
    "    def tanh(self):\n",
    "        x = self.data\n",
    "        out = Value((math.exp(2 * x) - 1) / (math.exp(2 * x) + 1), (self, ), 'tanh')\n",
    "\n",
    "        # derivative of tanh is 1 - tanh(x)^2, from wiki, then multiply the grad of output (backprop gradient)\n",
    "        def _backward():\n",
    "            self.grad += (1 - (out.data)**2) * out.grad\n",
    "        out._backward = _backward\n",
    "\n",
    "        return out\n",
    "\n",
    "    # call this function on the output node, to backprop all gradients\n",
    "    def backward(self):\n",
    "        self.grad = 1.0  # set output grad to 1, since class init to 0\n",
    "\n",
    "        # use a topological sort on the expression to call backprop automatically, starting with the output\n",
    "        topo = []\n",
    "        visited = set()\n",
    "        def build_topo(node):\n",
    "            if node not in visited:\n",
    "                visited.add(node)\n",
    "                for parent in node._prev:\n",
    "                    build_topo(parent)\n",
    "                topo.append(node)\n",
    "\n",
    "        # this will flatten out the output's mathmatical expression\n",
    "        build_topo(self)\n",
    "\n",
    "        # visit each node and backprop, reverse order to start from the output\n",
    "        for node in reversed(topo):\n",
    "            node._backward()\n",
    "        "
   ]
  },
  {
   "attachments": {},
   "cell_type": "markdown",
   "metadata": {},
   "source": [
    "# Forward pass"
   ]
  },
  {
   "cell_type": "code",
   "execution_count": 3,
   "metadata": {},
   "outputs": [
    {
     "data": {
      "text/plain": [
       "Value(data=-8.0)"
      ]
     },
     "execution_count": 3,
     "metadata": {},
     "output_type": "execute_result"
    }
   ],
   "source": [
    "# define a mathmatical expression, L = (a * b + c) * f\n",
    "a = Value(2.0, label='a')\n",
    "b = Value(-3.0, label='b')\n",
    "c = Value(10.0, label='c')\n",
    "d = a * b                       # d = -6\n",
    "d.label = 'd'\n",
    "e = d + c                       # e = 4\n",
    "e.label = 'e'\n",
    "f = Value(-2.0, label='f')\n",
    "L = e * f\n",
    "L.label = 'L'\n",
    "L"
   ]
  },
  {
   "cell_type": "code",
   "execution_count": 4,
   "metadata": {},
   "outputs": [],
   "source": [
    "# helper functions to visualize the mathmatical expression\n",
    "\n",
    "def trace(root):\n",
    "  # builds a set of all nodes and edges in a graph\n",
    "  nodes, edges = set(), set()\n",
    "  def build(v):\n",
    "    if v not in nodes:\n",
    "      nodes.add(v)\n",
    "      for child in v._prev:\n",
    "        edges.add((child, v))\n",
    "        build(child)\n",
    "  build(root)\n",
    "  return nodes, edges\n",
    "\n",
    "def draw_dot(root):\n",
    "  dot = Digraph(format='svg', graph_attr={'rankdir': 'LR'}) # LR = left to right\n",
    "  \n",
    "  nodes, edges = trace(root)\n",
    "  for n in nodes:\n",
    "    uid = str(id(n))\n",
    "    # for any value in the graph, create a rectangular ('record') node for it\n",
    "    dot.node(name = uid, label = \"{ %s | data %.4f | grad %.4f }\" % (n.label, n.data, n.grad), shape='record')\n",
    "    if n._op:\n",
    "      # if this value is a result of some operation, create an op node for it\n",
    "      dot.node(name = uid + n._op, label = n._op)\n",
    "      # and connect this node to it\n",
    "      dot.edge(uid + n._op, uid)\n",
    "\n",
    "  for n1, n2 in edges:\n",
    "    # connect n1 to the op node of n2\n",
    "    dot.edge(str(id(n1)), str(id(n2)) + n2._op)\n",
    "\n",
    "  return dot"
   ]
  },
  {
   "cell_type": "code",
   "execution_count": 5,
   "metadata": {},
   "outputs": [
    {
     "data": {
      "image/svg+xml": "<?xml version=\"1.0\" encoding=\"UTF-8\" standalone=\"no\"?>\n<!DOCTYPE svg PUBLIC \"-//W3C//DTD SVG 1.1//EN\"\n \"http://www.w3.org/Graphics/SVG/1.1/DTD/svg11.dtd\">\n<!-- Generated by graphviz version 7.1.0 (20230121.1956)\n -->\n<!-- Pages: 1 -->\n<svg width=\"1157pt\" height=\"128pt\"\n viewBox=\"0.00 0.00 1157.00 128.00\" xmlns=\"http://www.w3.org/2000/svg\" xmlns:xlink=\"http://www.w3.org/1999/xlink\">\n<g id=\"graph0\" class=\"graph\" transform=\"scale(1 1) rotate(0) translate(4 124)\">\n<polygon fill=\"white\" stroke=\"none\" points=\"-4,4 -4,-124 1153,-124 1153,4 -4,4\"/>\n<!-- 1806398142544 -->\n<g id=\"node1\" class=\"node\">\n<title>1806398142544</title>\n<polygon fill=\"none\" stroke=\"black\" points=\"640.5,-27.5 640.5,-63.5 827.5,-63.5 827.5,-27.5 640.5,-27.5\"/>\n<text text-anchor=\"middle\" x=\"652\" y=\"-41.8\" font-family=\"Times New Roman,serif\" font-size=\"14.00\">e</text>\n<polyline fill=\"none\" stroke=\"black\" points=\"663.5,-27.5 663.5,-63.5\"/>\n<text text-anchor=\"middle\" x=\"704\" y=\"-41.8\" font-family=\"Times New Roman,serif\" font-size=\"14.00\">data 4.0000</text>\n<polyline fill=\"none\" stroke=\"black\" points=\"744.5,-27.5 744.5,-63.5\"/>\n<text text-anchor=\"middle\" x=\"786\" y=\"-41.8\" font-family=\"Times New Roman,serif\" font-size=\"14.00\">grad 0.0000</text>\n</g>\n<!-- 1806398143936* -->\n<g id=\"node10\" class=\"node\">\n<title>1806398143936*</title>\n<ellipse fill=\"none\" stroke=\"black\" cx=\"892\" cy=\"-72.5\" rx=\"27\" ry=\"18\"/>\n<text text-anchor=\"middle\" x=\"892\" y=\"-68.8\" font-family=\"Times New Roman,serif\" font-size=\"14.00\">*</text>\n</g>\n<!-- 1806398142544&#45;&gt;1806398143936* -->\n<g id=\"edge4\" class=\"edge\">\n<title>1806398142544&#45;&gt;1806398143936*</title>\n<path fill=\"none\" stroke=\"black\" d=\"M827.1,-61.44C836.69,-63.1 845.99,-64.71 854.39,-66.16\"/>\n<polygon fill=\"black\" stroke=\"black\" points=\"853.66,-69.59 864.11,-67.85 854.86,-62.69 853.66,-69.59\"/>\n</g>\n<!-- 1806398142544+ -->\n<g id=\"node2\" class=\"node\">\n<title>1806398142544+</title>\n<ellipse fill=\"none\" stroke=\"black\" cx=\"576\" cy=\"-45.5\" rx=\"27\" ry=\"18\"/>\n<text text-anchor=\"middle\" x=\"576\" y=\"-41.8\" font-family=\"Times New Roman,serif\" font-size=\"14.00\">+</text>\n</g>\n<!-- 1806398142544+&#45;&gt;1806398142544 -->\n<g id=\"edge1\" class=\"edge\">\n<title>1806398142544+&#45;&gt;1806398142544</title>\n<path fill=\"none\" stroke=\"black\" d=\"M603.46,-45.5C611.15,-45.5 620.04,-45.5 629.5,-45.5\"/>\n<polygon fill=\"black\" stroke=\"black\" points=\"629.3,-49 639.3,-45.5 629.3,-42 629.3,-49\"/>\n</g>\n<!-- 1806398141584 -->\n<g id=\"node3\" class=\"node\">\n<title>1806398141584</title>\n<polygon fill=\"none\" stroke=\"black\" points=\"0,-83.5 0,-119.5 193,-119.5 193,-83.5 0,-83.5\"/>\n<text text-anchor=\"middle\" x=\"12\" y=\"-97.8\" font-family=\"Times New Roman,serif\" font-size=\"14.00\">b</text>\n<polyline fill=\"none\" stroke=\"black\" points=\"24,-83.5 24,-119.5\"/>\n<text text-anchor=\"middle\" x=\"67\" y=\"-97.8\" font-family=\"Times New Roman,serif\" font-size=\"14.00\">data &#45;3.0000</text>\n<polyline fill=\"none\" stroke=\"black\" points=\"110,-83.5 110,-119.5\"/>\n<text text-anchor=\"middle\" x=\"151.5\" y=\"-97.8\" font-family=\"Times New Roman,serif\" font-size=\"14.00\">grad 0.0000</text>\n</g>\n<!-- 1806398141152* -->\n<g id=\"node5\" class=\"node\">\n<title>1806398141152*</title>\n<ellipse fill=\"none\" stroke=\"black\" cx=\"256\" cy=\"-73.5\" rx=\"27\" ry=\"18\"/>\n<text text-anchor=\"middle\" x=\"256\" y=\"-69.8\" font-family=\"Times New Roman,serif\" font-size=\"14.00\">*</text>\n</g>\n<!-- 1806398141584&#45;&gt;1806398141152* -->\n<g id=\"edge6\" class=\"edge\">\n<title>1806398141584&#45;&gt;1806398141152*</title>\n<path fill=\"none\" stroke=\"black\" d=\"M192.75,-84.57C201.7,-82.98 210.35,-81.44 218.21,-80.04\"/>\n<polygon fill=\"black\" stroke=\"black\" points=\"218.75,-83.5 227.99,-78.3 217.53,-76.61 218.75,-83.5\"/>\n</g>\n<!-- 1806398141152 -->\n<g id=\"node4\" class=\"node\">\n<title>1806398141152</title>\n<polygon fill=\"none\" stroke=\"black\" points=\"319.5,-55.5 319.5,-91.5 512.5,-91.5 512.5,-55.5 319.5,-55.5\"/>\n<text text-anchor=\"middle\" x=\"331.5\" y=\"-69.8\" font-family=\"Times New Roman,serif\" font-size=\"14.00\">d</text>\n<polyline fill=\"none\" stroke=\"black\" points=\"343.5,-55.5 343.5,-91.5\"/>\n<text text-anchor=\"middle\" x=\"386.5\" y=\"-69.8\" font-family=\"Times New Roman,serif\" font-size=\"14.00\">data &#45;6.0000</text>\n<polyline fill=\"none\" stroke=\"black\" points=\"429.5,-55.5 429.5,-91.5\"/>\n<text text-anchor=\"middle\" x=\"471\" y=\"-69.8\" font-family=\"Times New Roman,serif\" font-size=\"14.00\">grad 0.0000</text>\n</g>\n<!-- 1806398141152&#45;&gt;1806398142544+ -->\n<g id=\"edge9\" class=\"edge\">\n<title>1806398141152&#45;&gt;1806398142544+</title>\n<path fill=\"none\" stroke=\"black\" d=\"M512.1,-56.65C521.32,-55.01 530.24,-53.43 538.32,-52\"/>\n<polygon fill=\"black\" stroke=\"black\" points=\"538.76,-55.48 548,-50.28 537.54,-48.58 538.76,-55.48\"/>\n</g>\n<!-- 1806398141152*&#45;&gt;1806398141152 -->\n<g id=\"edge2\" class=\"edge\">\n<title>1806398141152*&#45;&gt;1806398141152</title>\n<path fill=\"none\" stroke=\"black\" d=\"M283.45,-73.5C290.82,-73.5 299.3,-73.5 308.34,-73.5\"/>\n<polygon fill=\"black\" stroke=\"black\" points=\"308.09,-77 318.09,-73.5 308.09,-70 308.09,-77\"/>\n</g>\n<!-- 1806398144320 -->\n<g id=\"node6\" class=\"node\">\n<title>1806398144320</title>\n<polygon fill=\"none\" stroke=\"black\" points=\"319,-0.5 319,-36.5 513,-36.5 513,-0.5 319,-0.5\"/>\n<text text-anchor=\"middle\" x=\"330.5\" y=\"-14.8\" font-family=\"Times New Roman,serif\" font-size=\"14.00\">c</text>\n<polyline fill=\"none\" stroke=\"black\" points=\"342,-0.5 342,-36.5\"/>\n<text text-anchor=\"middle\" x=\"386\" y=\"-14.8\" font-family=\"Times New Roman,serif\" font-size=\"14.00\">data 10.0000</text>\n<polyline fill=\"none\" stroke=\"black\" points=\"430,-0.5 430,-36.5\"/>\n<text text-anchor=\"middle\" x=\"471.5\" y=\"-14.8\" font-family=\"Times New Roman,serif\" font-size=\"14.00\">grad 0.0000</text>\n</g>\n<!-- 1806398144320&#45;&gt;1806398142544+ -->\n<g id=\"edge8\" class=\"edge\">\n<title>1806398144320&#45;&gt;1806398142544+</title>\n<path fill=\"none\" stroke=\"black\" d=\"M512.55,-34.83C521.53,-36.36 530.21,-37.85 538.1,-39.19\"/>\n<polygon fill=\"black\" stroke=\"black\" points=\"537.46,-42.63 547.9,-40.87 538.64,-35.73 537.46,-42.63\"/>\n</g>\n<!-- 1806398140768 -->\n<g id=\"node7\" class=\"node\">\n<title>1806398140768</title>\n<polygon fill=\"none\" stroke=\"black\" points=\"639,-82.5 639,-118.5 829,-118.5 829,-82.5 639,-82.5\"/>\n<text text-anchor=\"middle\" x=\"649.5\" y=\"-96.8\" font-family=\"Times New Roman,serif\" font-size=\"14.00\">f</text>\n<polyline fill=\"none\" stroke=\"black\" points=\"660,-82.5 660,-118.5\"/>\n<text text-anchor=\"middle\" x=\"703\" y=\"-96.8\" font-family=\"Times New Roman,serif\" font-size=\"14.00\">data &#45;2.0000</text>\n<polyline fill=\"none\" stroke=\"black\" points=\"746,-82.5 746,-118.5\"/>\n<text text-anchor=\"middle\" x=\"787.5\" y=\"-96.8\" font-family=\"Times New Roman,serif\" font-size=\"14.00\">grad 0.0000</text>\n</g>\n<!-- 1806398140768&#45;&gt;1806398143936* -->\n<g id=\"edge5\" class=\"edge\">\n<title>1806398140768&#45;&gt;1806398143936*</title>\n<path fill=\"none\" stroke=\"black\" d=\"M828.9,-83.65C837.81,-82.05 846.43,-80.5 854.28,-79.09\"/>\n<polygon fill=\"black\" stroke=\"black\" points=\"854.8,-82.55 864.02,-77.34 853.56,-75.66 854.8,-82.55\"/>\n</g>\n<!-- 1806398144368 -->\n<g id=\"node8\" class=\"node\">\n<title>1806398144368</title>\n<polygon fill=\"none\" stroke=\"black\" points=\"3,-28.5 3,-64.5 190,-64.5 190,-28.5 3,-28.5\"/>\n<text text-anchor=\"middle\" x=\"14.5\" y=\"-42.8\" font-family=\"Times New Roman,serif\" font-size=\"14.00\">a</text>\n<polyline fill=\"none\" stroke=\"black\" points=\"26,-28.5 26,-64.5\"/>\n<text text-anchor=\"middle\" x=\"66.5\" y=\"-42.8\" font-family=\"Times New Roman,serif\" font-size=\"14.00\">data 2.0000</text>\n<polyline fill=\"none\" stroke=\"black\" points=\"107,-28.5 107,-64.5\"/>\n<text text-anchor=\"middle\" x=\"148.5\" y=\"-42.8\" font-family=\"Times New Roman,serif\" font-size=\"14.00\">grad 0.0000</text>\n</g>\n<!-- 1806398144368&#45;&gt;1806398141152* -->\n<g id=\"edge7\" class=\"edge\">\n<title>1806398144368&#45;&gt;1806398141152*</title>\n<path fill=\"none\" stroke=\"black\" d=\"M189.57,-62.28C199.66,-64.01 209.45,-65.69 218.25,-67.2\"/>\n<polygon fill=\"black\" stroke=\"black\" points=\"217.63,-70.65 228.08,-68.89 218.82,-63.75 217.63,-70.65\"/>\n</g>\n<!-- 1806398143936 -->\n<g id=\"node9\" class=\"node\">\n<title>1806398143936</title>\n<polygon fill=\"none\" stroke=\"black\" points=\"955,-54.5 955,-90.5 1149,-90.5 1149,-54.5 955,-54.5\"/>\n<text text-anchor=\"middle\" x=\"967.5\" y=\"-68.8\" font-family=\"Times New Roman,serif\" font-size=\"14.00\">L</text>\n<polyline fill=\"none\" stroke=\"black\" points=\"980,-54.5 980,-90.5\"/>\n<text text-anchor=\"middle\" x=\"1023\" y=\"-68.8\" font-family=\"Times New Roman,serif\" font-size=\"14.00\">data &#45;8.0000</text>\n<polyline fill=\"none\" stroke=\"black\" points=\"1066,-54.5 1066,-90.5\"/>\n<text text-anchor=\"middle\" x=\"1107.5\" y=\"-68.8\" font-family=\"Times New Roman,serif\" font-size=\"14.00\">grad 0.0000</text>\n</g>\n<!-- 1806398143936*&#45;&gt;1806398143936 -->\n<g id=\"edge3\" class=\"edge\">\n<title>1806398143936*&#45;&gt;1806398143936</title>\n<path fill=\"none\" stroke=\"black\" d=\"M919.45,-72.5C926.67,-72.5 934.97,-72.5 943.82,-72.5\"/>\n<polygon fill=\"black\" stroke=\"black\" points=\"943.75,-76 953.75,-72.5 943.75,-69 943.75,-76\"/>\n</g>\n</g>\n</svg>\n",
      "text/plain": [
       "<graphviz.graphs.Digraph at 0x1a495baf4f0>"
      ]
     },
     "execution_count": 5,
     "metadata": {},
     "output_type": "execute_result"
    }
   ],
   "source": [
    "draw_dot(L)"
   ]
  },
  {
   "attachments": {},
   "cell_type": "markdown",
   "metadata": {},
   "source": [
    "# Backpropagation"
   ]
  },
  {
   "cell_type": "code",
   "execution_count": 6,
   "metadata": {},
   "outputs": [],
   "source": [
    "# L = (a * b + c) * f\n",
    "\n",
    "# dL/dL is just 1 (derivative on itself)\n",
    "L.grad = 1.0\n",
    "\n",
    "# dL/df = e, since L = e * f\n",
    "f.grad = e.data\n",
    "\n",
    "# dL/de = f , since L = e * f\n",
    "e.grad = f.data\n",
    "\n",
    "# dL/dc = f\n",
    "# since dL/dc = dL/de * de/dc (e = d + c, de/dc is just 1)\n",
    "# -> dL/dc = f * 1 = f\n",
    "c.grad = f.data\n",
    "\n",
    "# dL/dd = f as well, i.e. a (+) op just back flows the gradient to the operands\n",
    "d.grad = f.data\n",
    "\n",
    "# dL/da = dL/dd * dd/da = f * b\n",
    "a.grad = f.data * b.data\n",
    "\n",
    "# dL/db = dL/dd * dd/db = f * a\n",
    "b.grad = f.data * a.data\n"
   ]
  },
  {
   "cell_type": "code",
   "execution_count": 7,
   "metadata": {},
   "outputs": [
    {
     "data": {
      "image/svg+xml": "<?xml version=\"1.0\" encoding=\"UTF-8\" standalone=\"no\"?>\n<!DOCTYPE svg PUBLIC \"-//W3C//DTD SVG 1.1//EN\"\n \"http://www.w3.org/Graphics/SVG/1.1/DTD/svg11.dtd\">\n<!-- Generated by graphviz version 7.1.0 (20230121.1956)\n -->\n<!-- Pages: 1 -->\n<svg width=\"1166pt\" height=\"128pt\"\n viewBox=\"0.00 0.00 1166.00 128.00\" xmlns=\"http://www.w3.org/2000/svg\" xmlns:xlink=\"http://www.w3.org/1999/xlink\">\n<g id=\"graph0\" class=\"graph\" transform=\"scale(1 1) rotate(0) translate(4 124)\">\n<polygon fill=\"white\" stroke=\"none\" points=\"-4,4 -4,-124 1162,-124 1162,4 -4,4\"/>\n<!-- 1806398142544 -->\n<g id=\"node1\" class=\"node\">\n<title>1806398142544</title>\n<polygon fill=\"none\" stroke=\"black\" points=\"647,-27.5 647,-63.5 838,-63.5 838,-27.5 647,-27.5\"/>\n<text text-anchor=\"middle\" x=\"658.5\" y=\"-41.8\" font-family=\"Times New Roman,serif\" font-size=\"14.00\">e</text>\n<polyline fill=\"none\" stroke=\"black\" points=\"670,-27.5 670,-63.5\"/>\n<text text-anchor=\"middle\" x=\"710.5\" y=\"-41.8\" font-family=\"Times New Roman,serif\" font-size=\"14.00\">data 4.0000</text>\n<polyline fill=\"none\" stroke=\"black\" points=\"751,-27.5 751,-63.5\"/>\n<text text-anchor=\"middle\" x=\"794.5\" y=\"-41.8\" font-family=\"Times New Roman,serif\" font-size=\"14.00\">grad &#45;2.0000</text>\n</g>\n<!-- 1806398143936* -->\n<g id=\"node10\" class=\"node\">\n<title>1806398143936*</title>\n<ellipse fill=\"none\" stroke=\"black\" cx=\"901\" cy=\"-72.5\" rx=\"27\" ry=\"18\"/>\n<text text-anchor=\"middle\" x=\"901\" y=\"-68.8\" font-family=\"Times New Roman,serif\" font-size=\"14.00\">*</text>\n</g>\n<!-- 1806398142544&#45;&gt;1806398143936* -->\n<g id=\"edge4\" class=\"edge\">\n<title>1806398142544&#45;&gt;1806398143936*</title>\n<path fill=\"none\" stroke=\"black\" d=\"M837.7,-61.75C846.64,-63.29 855.29,-64.79 863.16,-66.14\"/>\n<polygon fill=\"black\" stroke=\"black\" points=\"862.49,-69.58 872.94,-67.83 863.68,-62.68 862.49,-69.58\"/>\n</g>\n<!-- 1806398142544+ -->\n<g id=\"node2\" class=\"node\">\n<title>1806398142544+</title>\n<ellipse fill=\"none\" stroke=\"black\" cx=\"584\" cy=\"-45.5\" rx=\"27\" ry=\"18\"/>\n<text text-anchor=\"middle\" x=\"584\" y=\"-41.8\" font-family=\"Times New Roman,serif\" font-size=\"14.00\">+</text>\n</g>\n<!-- 1806398142544+&#45;&gt;1806398142544 -->\n<g id=\"edge1\" class=\"edge\">\n<title>1806398142544+&#45;&gt;1806398142544</title>\n<path fill=\"none\" stroke=\"black\" d=\"M611.19,-45.5C618.41,-45.5 626.72,-45.5 635.56,-45.5\"/>\n<polygon fill=\"black\" stroke=\"black\" points=\"635.5,-49 645.5,-45.5 635.5,-42 635.5,-49\"/>\n</g>\n<!-- 1806398141584 -->\n<g id=\"node3\" class=\"node\">\n<title>1806398141584</title>\n<polygon fill=\"none\" stroke=\"black\" points=\"0,-83.5 0,-119.5 197,-119.5 197,-83.5 0,-83.5\"/>\n<text text-anchor=\"middle\" x=\"12\" y=\"-97.8\" font-family=\"Times New Roman,serif\" font-size=\"14.00\">b</text>\n<polyline fill=\"none\" stroke=\"black\" points=\"24,-83.5 24,-119.5\"/>\n<text text-anchor=\"middle\" x=\"67\" y=\"-97.8\" font-family=\"Times New Roman,serif\" font-size=\"14.00\">data &#45;3.0000</text>\n<polyline fill=\"none\" stroke=\"black\" points=\"110,-83.5 110,-119.5\"/>\n<text text-anchor=\"middle\" x=\"153.5\" y=\"-97.8\" font-family=\"Times New Roman,serif\" font-size=\"14.00\">grad &#45;4.0000</text>\n</g>\n<!-- 1806398141152* -->\n<g id=\"node5\" class=\"node\">\n<title>1806398141152*</title>\n<ellipse fill=\"none\" stroke=\"black\" cx=\"260\" cy=\"-73.5\" rx=\"27\" ry=\"18\"/>\n<text text-anchor=\"middle\" x=\"260\" y=\"-69.8\" font-family=\"Times New Roman,serif\" font-size=\"14.00\">*</text>\n</g>\n<!-- 1806398141584&#45;&gt;1806398141152* -->\n<g id=\"edge6\" class=\"edge\">\n<title>1806398141584&#45;&gt;1806398141152*</title>\n<path fill=\"none\" stroke=\"black\" d=\"M196.88,-84.41C205.84,-82.83 214.48,-81.32 222.33,-79.94\"/>\n<polygon fill=\"black\" stroke=\"black\" points=\"222.84,-83.4 232.08,-78.23 221.63,-76.51 222.84,-83.4\"/>\n</g>\n<!-- 1806398141152 -->\n<g id=\"node4\" class=\"node\">\n<title>1806398141152</title>\n<polygon fill=\"none\" stroke=\"black\" points=\"323.5,-55.5 323.5,-91.5 520.5,-91.5 520.5,-55.5 323.5,-55.5\"/>\n<text text-anchor=\"middle\" x=\"335.5\" y=\"-69.8\" font-family=\"Times New Roman,serif\" font-size=\"14.00\">d</text>\n<polyline fill=\"none\" stroke=\"black\" points=\"347.5,-55.5 347.5,-91.5\"/>\n<text text-anchor=\"middle\" x=\"390.5\" y=\"-69.8\" font-family=\"Times New Roman,serif\" font-size=\"14.00\">data &#45;6.0000</text>\n<polyline fill=\"none\" stroke=\"black\" points=\"433.5,-55.5 433.5,-91.5\"/>\n<text text-anchor=\"middle\" x=\"477\" y=\"-69.8\" font-family=\"Times New Roman,serif\" font-size=\"14.00\">grad &#45;2.0000</text>\n</g>\n<!-- 1806398141152&#45;&gt;1806398142544+ -->\n<g id=\"edge9\" class=\"edge\">\n<title>1806398141152&#45;&gt;1806398142544+</title>\n<path fill=\"none\" stroke=\"black\" d=\"M520.22,-56.49C529.46,-54.87 538.37,-53.31 546.43,-51.9\"/>\n<polygon fill=\"black\" stroke=\"black\" points=\"546.85,-55.38 556.09,-50.21 545.64,-48.48 546.85,-55.38\"/>\n</g>\n<!-- 1806398141152*&#45;&gt;1806398141152 -->\n<g id=\"edge2\" class=\"edge\">\n<title>1806398141152*&#45;&gt;1806398141152</title>\n<path fill=\"none\" stroke=\"black\" d=\"M287.42,-73.5C294.8,-73.5 303.31,-73.5 312.39,-73.5\"/>\n<polygon fill=\"black\" stroke=\"black\" points=\"312.19,-77 322.19,-73.5 312.19,-70 312.19,-77\"/>\n</g>\n<!-- 1806398144320 -->\n<g id=\"node6\" class=\"node\">\n<title>1806398144320</title>\n<polygon fill=\"none\" stroke=\"black\" points=\"323,-0.5 323,-36.5 521,-36.5 521,-0.5 323,-0.5\"/>\n<text text-anchor=\"middle\" x=\"334.5\" y=\"-14.8\" font-family=\"Times New Roman,serif\" font-size=\"14.00\">c</text>\n<polyline fill=\"none\" stroke=\"black\" points=\"346,-0.5 346,-36.5\"/>\n<text text-anchor=\"middle\" x=\"390\" y=\"-14.8\" font-family=\"Times New Roman,serif\" font-size=\"14.00\">data 10.0000</text>\n<polyline fill=\"none\" stroke=\"black\" points=\"434,-0.5 434,-36.5\"/>\n<text text-anchor=\"middle\" x=\"477.5\" y=\"-14.8\" font-family=\"Times New Roman,serif\" font-size=\"14.00\">grad &#45;2.0000</text>\n</g>\n<!-- 1806398144320&#45;&gt;1806398142544+ -->\n<g id=\"edge8\" class=\"edge\">\n<title>1806398144320&#45;&gt;1806398142544+</title>\n<path fill=\"none\" stroke=\"black\" d=\"M520.68,-34.98C529.67,-36.5 538.34,-37.96 546.22,-39.29\"/>\n<polygon fill=\"black\" stroke=\"black\" points=\"545.56,-42.73 556,-40.94 546.72,-35.83 545.56,-42.73\"/>\n</g>\n<!-- 1806398140768 -->\n<g id=\"node7\" class=\"node\">\n<title>1806398140768</title>\n<polygon fill=\"none\" stroke=\"black\" points=\"647.5,-82.5 647.5,-118.5 837.5,-118.5 837.5,-82.5 647.5,-82.5\"/>\n<text text-anchor=\"middle\" x=\"658\" y=\"-96.8\" font-family=\"Times New Roman,serif\" font-size=\"14.00\">f</text>\n<polyline fill=\"none\" stroke=\"black\" points=\"668.5,-82.5 668.5,-118.5\"/>\n<text text-anchor=\"middle\" x=\"711.5\" y=\"-96.8\" font-family=\"Times New Roman,serif\" font-size=\"14.00\">data &#45;2.0000</text>\n<polyline fill=\"none\" stroke=\"black\" points=\"754.5,-82.5 754.5,-118.5\"/>\n<text text-anchor=\"middle\" x=\"796\" y=\"-96.8\" font-family=\"Times New Roman,serif\" font-size=\"14.00\">grad 4.0000</text>\n</g>\n<!-- 1806398140768&#45;&gt;1806398143936* -->\n<g id=\"edge5\" class=\"edge\">\n<title>1806398140768&#45;&gt;1806398143936*</title>\n<path fill=\"none\" stroke=\"black\" d=\"M837.25,-83.73C846.43,-82.08 855.32,-80.49 863.38,-79.05\"/>\n<polygon fill=\"black\" stroke=\"black\" points=\"863.81,-82.53 873.04,-77.32 862.58,-75.64 863.81,-82.53\"/>\n</g>\n<!-- 1806398144368 -->\n<g id=\"node8\" class=\"node\">\n<title>1806398144368</title>\n<polygon fill=\"none\" stroke=\"black\" points=\"5,-28.5 5,-64.5 192,-64.5 192,-28.5 5,-28.5\"/>\n<text text-anchor=\"middle\" x=\"16.5\" y=\"-42.8\" font-family=\"Times New Roman,serif\" font-size=\"14.00\">a</text>\n<polyline fill=\"none\" stroke=\"black\" points=\"28,-28.5 28,-64.5\"/>\n<text text-anchor=\"middle\" x=\"68.5\" y=\"-42.8\" font-family=\"Times New Roman,serif\" font-size=\"14.00\">data 2.0000</text>\n<polyline fill=\"none\" stroke=\"black\" points=\"109,-28.5 109,-64.5\"/>\n<text text-anchor=\"middle\" x=\"150.5\" y=\"-42.8\" font-family=\"Times New Roman,serif\" font-size=\"14.00\">grad 6.0000</text>\n</g>\n<!-- 1806398144368&#45;&gt;1806398141152* -->\n<g id=\"edge7\" class=\"edge\">\n<title>1806398144368&#45;&gt;1806398141152*</title>\n<path fill=\"none\" stroke=\"black\" d=\"M191.82,-62.13C202.57,-63.95 213.01,-65.72 222.33,-67.29\"/>\n<polygon fill=\"black\" stroke=\"black\" points=\"221.54,-70.71 231.98,-68.93 222.71,-63.81 221.54,-70.71\"/>\n</g>\n<!-- 1806398143936 -->\n<g id=\"node9\" class=\"node\">\n<title>1806398143936</title>\n<polygon fill=\"none\" stroke=\"black\" points=\"964,-54.5 964,-90.5 1158,-90.5 1158,-54.5 964,-54.5\"/>\n<text text-anchor=\"middle\" x=\"976.5\" y=\"-68.8\" font-family=\"Times New Roman,serif\" font-size=\"14.00\">L</text>\n<polyline fill=\"none\" stroke=\"black\" points=\"989,-54.5 989,-90.5\"/>\n<text text-anchor=\"middle\" x=\"1032\" y=\"-68.8\" font-family=\"Times New Roman,serif\" font-size=\"14.00\">data &#45;8.0000</text>\n<polyline fill=\"none\" stroke=\"black\" points=\"1075,-54.5 1075,-90.5\"/>\n<text text-anchor=\"middle\" x=\"1116.5\" y=\"-68.8\" font-family=\"Times New Roman,serif\" font-size=\"14.00\">grad 1.0000</text>\n</g>\n<!-- 1806398143936*&#45;&gt;1806398143936 -->\n<g id=\"edge3\" class=\"edge\">\n<title>1806398143936*&#45;&gt;1806398143936</title>\n<path fill=\"none\" stroke=\"black\" d=\"M928.45,-72.5C935.67,-72.5 943.97,-72.5 952.82,-72.5\"/>\n<polygon fill=\"black\" stroke=\"black\" points=\"952.75,-76 962.75,-72.5 952.75,-69 952.75,-76\"/>\n</g>\n</g>\n</svg>\n",
      "text/plain": [
       "<graphviz.graphs.Digraph at 0x1a495baf280>"
      ]
     },
     "execution_count": 7,
     "metadata": {},
     "output_type": "execute_result"
    }
   ],
   "source": [
    "draw_dot(L)"
   ]
  },
  {
   "attachments": {},
   "cell_type": "markdown",
   "metadata": {},
   "source": [
    "# Neurons"
   ]
  },
  {
   "cell_type": "code",
   "execution_count": 8,
   "metadata": {},
   "outputs": [],
   "source": [
    "# a neuron with 2 inputs x1, x2\n",
    "x1 = Value(2.0, label='x1')\n",
    "x2 = Value(0.0, label='x2')\n",
    "# each input has a weight\n",
    "w1 = Value(-3.0, label='w1')\n",
    "w2 = Value(1.0, label='w2')\n",
    "# each neuron has a bias (arbitrary value just for manual backpropagation numbers look more comprehensive)\n",
    "b = Value(6.8813735870195432, label='b')\n",
    "\n",
    "x1w1 = x1 * w1\n",
    "x1w1.label = 'x1 * w1'\n",
    "x2w2 = x2 * w2\n",
    "x2w2.label = 'x2 * w2'\n",
    "\n",
    "x1w1x2w2 = x1w1 + x2w2\n",
    "x1w1x2w2.label = 'x1 * w1 + x2 * w2'\n",
    "\n",
    "# neuron = sum of (each input * weight) + bias\n",
    "neuron = x1w1x2w2 + b\n",
    "neuron.label = 'neuron'\n",
    "\n",
    "# neuron activation\n",
    "output = neuron.tanh()\n",
    "output.label = 'output'"
   ]
  },
  {
   "cell_type": "code",
   "execution_count": 9,
   "metadata": {},
   "outputs": [
    {
     "data": {
      "image/svg+xml": "<?xml version=\"1.0\" encoding=\"UTF-8\" standalone=\"no\"?>\n<!DOCTYPE svg PUBLIC \"-//W3C//DTD SVG 1.1//EN\"\n \"http://www.w3.org/Graphics/SVG/1.1/DTD/svg11.dtd\">\n<!-- Generated by graphviz version 7.1.0 (20230121.1956)\n -->\n<!-- Pages: 1 -->\n<svg width=\"1670pt\" height=\"210pt\"\n viewBox=\"0.00 0.00 1670.00 210.00\" xmlns=\"http://www.w3.org/2000/svg\" xmlns:xlink=\"http://www.w3.org/1999/xlink\">\n<g id=\"graph0\" class=\"graph\" transform=\"scale(1 1) rotate(0) translate(4 206)\">\n<polygon fill=\"white\" stroke=\"none\" points=\"-4,4 -4,-206 1666,-206 1666,4 -4,4\"/>\n<!-- 1806398035472 -->\n<g id=\"node1\" class=\"node\">\n<title>1806398035472</title>\n<polygon fill=\"none\" stroke=\"black\" points=\"735,-137.5 735,-173.5 923,-173.5 923,-137.5 735,-137.5\"/>\n<text text-anchor=\"middle\" x=\"747\" y=\"-151.8\" font-family=\"Times New Roman,serif\" font-size=\"14.00\">b</text>\n<polyline fill=\"none\" stroke=\"black\" points=\"759,-137.5 759,-173.5\"/>\n<text text-anchor=\"middle\" x=\"799.5\" y=\"-151.8\" font-family=\"Times New Roman,serif\" font-size=\"14.00\">data 6.8814</text>\n<polyline fill=\"none\" stroke=\"black\" points=\"840,-137.5 840,-173.5\"/>\n<text text-anchor=\"middle\" x=\"881.5\" y=\"-151.8\" font-family=\"Times New Roman,serif\" font-size=\"14.00\">grad 0.0000</text>\n</g>\n<!-- 1806398320896+ -->\n<g id=\"node6\" class=\"node\">\n<title>1806398320896+</title>\n<ellipse fill=\"none\" stroke=\"black\" cx=\"1037\" cy=\"-127.5\" rx=\"27\" ry=\"18\"/>\n<text text-anchor=\"middle\" x=\"1037\" y=\"-123.8\" font-family=\"Times New Roman,serif\" font-size=\"14.00\">+</text>\n</g>\n<!-- 1806398035472&#45;&gt;1806398320896+ -->\n<g id=\"edge13\" class=\"edge\">\n<title>1806398035472&#45;&gt;1806398320896+</title>\n<path fill=\"none\" stroke=\"black\" d=\"M922.76,-142.89C949.79,-139.22 977.77,-135.41 999.16,-132.51\"/>\n<polygon fill=\"black\" stroke=\"black\" points=\"999.37,-136.01 1008.81,-131.2 998.43,-129.07 999.37,-136.01\"/>\n</g>\n<!-- 1806398036096 -->\n<g id=\"node2\" class=\"node\">\n<title>1806398036096</title>\n<polygon fill=\"none\" stroke=\"black\" points=\"328,-110.5 328,-146.5 558,-146.5 558,-110.5 328,-110.5\"/>\n<text text-anchor=\"middle\" x=\"358.5\" y=\"-124.8\" font-family=\"Times New Roman,serif\" font-size=\"14.00\">x1 * w1</text>\n<polyline fill=\"none\" stroke=\"black\" points=\"389,-110.5 389,-146.5\"/>\n<text text-anchor=\"middle\" x=\"432\" y=\"-124.8\" font-family=\"Times New Roman,serif\" font-size=\"14.00\">data &#45;6.0000</text>\n<polyline fill=\"none\" stroke=\"black\" points=\"475,-110.5 475,-146.5\"/>\n<text text-anchor=\"middle\" x=\"516.5\" y=\"-124.8\" font-family=\"Times New Roman,serif\" font-size=\"14.00\">grad 0.0000</text>\n</g>\n<!-- 1806398324544+ -->\n<g id=\"node12\" class=\"node\">\n<title>1806398324544+</title>\n<ellipse fill=\"none\" stroke=\"black\" cx=\"621\" cy=\"-100.5\" rx=\"27\" ry=\"18\"/>\n<text text-anchor=\"middle\" x=\"621\" y=\"-96.8\" font-family=\"Times New Roman,serif\" font-size=\"14.00\">+</text>\n</g>\n<!-- 1806398036096&#45;&gt;1806398324544+ -->\n<g id=\"edge9\" class=\"edge\">\n<title>1806398036096&#45;&gt;1806398324544+</title>\n<path fill=\"none\" stroke=\"black\" d=\"M556.96,-110.53C566.31,-109.04 575.26,-107.62 583.32,-106.34\"/>\n<polygon fill=\"black\" stroke=\"black\" points=\"583.62,-109.83 592.95,-104.8 582.52,-102.92 583.62,-109.83\"/>\n</g>\n<!-- 1806398036096* -->\n<g id=\"node3\" class=\"node\">\n<title>1806398036096*</title>\n<ellipse fill=\"none\" stroke=\"black\" cx=\"265\" cy=\"-128.5\" rx=\"27\" ry=\"18\"/>\n<text text-anchor=\"middle\" x=\"265\" y=\"-124.8\" font-family=\"Times New Roman,serif\" font-size=\"14.00\">*</text>\n</g>\n<!-- 1806398036096*&#45;&gt;1806398036096 -->\n<g id=\"edge1\" class=\"edge\">\n<title>1806398036096*&#45;&gt;1806398036096</title>\n<path fill=\"none\" stroke=\"black\" d=\"M292.35,-128.5C299.58,-128.5 307.92,-128.5 316.89,-128.5\"/>\n<polygon fill=\"black\" stroke=\"black\" points=\"316.6,-132 326.6,-128.5 316.6,-125 316.6,-132\"/>\n</g>\n<!-- 1806398037152 -->\n<g id=\"node4\" class=\"node\">\n<title>1806398037152</title>\n<polygon fill=\"none\" stroke=\"black\" points=\"2.5,-55.5 2.5,-91.5 199.5,-91.5 199.5,-55.5 2.5,-55.5\"/>\n<text text-anchor=\"middle\" x=\"19\" y=\"-69.8\" font-family=\"Times New Roman,serif\" font-size=\"14.00\">w2</text>\n<polyline fill=\"none\" stroke=\"black\" points=\"35.5,-55.5 35.5,-91.5\"/>\n<text text-anchor=\"middle\" x=\"76\" y=\"-69.8\" font-family=\"Times New Roman,serif\" font-size=\"14.00\">data 1.0000</text>\n<polyline fill=\"none\" stroke=\"black\" points=\"116.5,-55.5 116.5,-91.5\"/>\n<text text-anchor=\"middle\" x=\"158\" y=\"-69.8\" font-family=\"Times New Roman,serif\" font-size=\"14.00\">grad 0.0000</text>\n</g>\n<!-- 1806398321952* -->\n<g id=\"node10\" class=\"node\">\n<title>1806398321952*</title>\n<ellipse fill=\"none\" stroke=\"black\" cx=\"265\" cy=\"-73.5\" rx=\"27\" ry=\"18\"/>\n<text text-anchor=\"middle\" x=\"265\" y=\"-69.8\" font-family=\"Times New Roman,serif\" font-size=\"14.00\">*</text>\n</g>\n<!-- 1806398037152&#45;&gt;1806398321952* -->\n<g id=\"edge7\" class=\"edge\">\n<title>1806398037152&#45;&gt;1806398321952*</title>\n<path fill=\"none\" stroke=\"black\" d=\"M199.04,-73.5C208.66,-73.5 217.96,-73.5 226.38,-73.5\"/>\n<polygon fill=\"black\" stroke=\"black\" points=\"226.12,-77 236.12,-73.5 226.12,-70 226.12,-77\"/>\n</g>\n<!-- 1806398320896 -->\n<g id=\"node5\" class=\"node\">\n<title>1806398320896</title>\n<polygon fill=\"none\" stroke=\"black\" points=\"1100,-109.5 1100,-145.5 1319,-145.5 1319,-109.5 1100,-109.5\"/>\n<text text-anchor=\"middle\" x=\"1127.5\" y=\"-123.8\" font-family=\"Times New Roman,serif\" font-size=\"14.00\">neuron</text>\n<polyline fill=\"none\" stroke=\"black\" points=\"1155,-109.5 1155,-145.5\"/>\n<text text-anchor=\"middle\" x=\"1195.5\" y=\"-123.8\" font-family=\"Times New Roman,serif\" font-size=\"14.00\">data 0.8814</text>\n<polyline fill=\"none\" stroke=\"black\" points=\"1236,-109.5 1236,-145.5\"/>\n<text text-anchor=\"middle\" x=\"1277.5\" y=\"-123.8\" font-family=\"Times New Roman,serif\" font-size=\"14.00\">grad 0.0000</text>\n</g>\n<!-- 1806398323056tanh -->\n<g id=\"node8\" class=\"node\">\n<title>1806398323056tanh</title>\n<ellipse fill=\"none\" stroke=\"black\" cx=\"1382\" cy=\"-127.5\" rx=\"27\" ry=\"18\"/>\n<text text-anchor=\"middle\" x=\"1382\" y=\"-123.8\" font-family=\"Times New Roman,serif\" font-size=\"14.00\">tanh</text>\n</g>\n<!-- 1806398320896&#45;&gt;1806398323056tanh -->\n<g id=\"edge14\" class=\"edge\">\n<title>1806398320896&#45;&gt;1806398323056tanh</title>\n<path fill=\"none\" stroke=\"black\" d=\"M1318.96,-127.5C1327.48,-127.5 1335.66,-127.5 1343.13,-127.5\"/>\n<polygon fill=\"black\" stroke=\"black\" points=\"1343.09,-131 1353.09,-127.5 1343.09,-124 1343.09,-131\"/>\n</g>\n<!-- 1806398320896+&#45;&gt;1806398320896 -->\n<g id=\"edge2\" class=\"edge\">\n<title>1806398320896+&#45;&gt;1806398320896</title>\n<path fill=\"none\" stroke=\"black\" d=\"M1064.27,-127.5C1071.43,-127.5 1079.67,-127.5 1088.52,-127.5\"/>\n<polygon fill=\"black\" stroke=\"black\" points=\"1088.51,-131 1098.51,-127.5 1088.51,-124 1088.51,-131\"/>\n</g>\n<!-- 1806398323056 -->\n<g id=\"node7\" class=\"node\">\n<title>1806398323056</title>\n<polygon fill=\"none\" stroke=\"black\" points=\"1445,-109.5 1445,-145.5 1662,-145.5 1662,-109.5 1445,-109.5\"/>\n<text text-anchor=\"middle\" x=\"1471.5\" y=\"-123.8\" font-family=\"Times New Roman,serif\" font-size=\"14.00\">output</text>\n<polyline fill=\"none\" stroke=\"black\" points=\"1498,-109.5 1498,-145.5\"/>\n<text text-anchor=\"middle\" x=\"1538.5\" y=\"-123.8\" font-family=\"Times New Roman,serif\" font-size=\"14.00\">data 0.7071</text>\n<polyline fill=\"none\" stroke=\"black\" points=\"1579,-109.5 1579,-145.5\"/>\n<text text-anchor=\"middle\" x=\"1620.5\" y=\"-123.8\" font-family=\"Times New Roman,serif\" font-size=\"14.00\">grad 0.0000</text>\n</g>\n<!-- 1806398323056tanh&#45;&gt;1806398323056 -->\n<g id=\"edge3\" class=\"edge\">\n<title>1806398323056tanh&#45;&gt;1806398323056</title>\n<path fill=\"none\" stroke=\"black\" d=\"M1409.48,-127.5C1416.62,-127.5 1424.82,-127.5 1433.62,-127.5\"/>\n<polygon fill=\"black\" stroke=\"black\" points=\"1433.52,-131 1443.52,-127.5 1433.52,-124 1433.52,-131\"/>\n</g>\n<!-- 1806398321952 -->\n<g id=\"node9\" class=\"node\">\n<title>1806398321952</title>\n<polygon fill=\"none\" stroke=\"black\" points=\"330.5,-55.5 330.5,-91.5 555.5,-91.5 555.5,-55.5 330.5,-55.5\"/>\n<text text-anchor=\"middle\" x=\"361\" y=\"-69.8\" font-family=\"Times New Roman,serif\" font-size=\"14.00\">x2 * w2</text>\n<polyline fill=\"none\" stroke=\"black\" points=\"391.5,-55.5 391.5,-91.5\"/>\n<text text-anchor=\"middle\" x=\"432\" y=\"-69.8\" font-family=\"Times New Roman,serif\" font-size=\"14.00\">data 0.0000</text>\n<polyline fill=\"none\" stroke=\"black\" points=\"472.5,-55.5 472.5,-91.5\"/>\n<text text-anchor=\"middle\" x=\"514\" y=\"-69.8\" font-family=\"Times New Roman,serif\" font-size=\"14.00\">grad 0.0000</text>\n</g>\n<!-- 1806398321952&#45;&gt;1806398324544+ -->\n<g id=\"edge11\" class=\"edge\">\n<title>1806398321952&#45;&gt;1806398324544+</title>\n<path fill=\"none\" stroke=\"black\" d=\"M555.46,-90.6C565.29,-92.11 574.7,-93.55 583.15,-94.85\"/>\n<polygon fill=\"black\" stroke=\"black\" points=\"582.48,-98.28 592.89,-96.34 583.54,-91.37 582.48,-98.28\"/>\n</g>\n<!-- 1806398321952*&#45;&gt;1806398321952 -->\n<g id=\"edge4\" class=\"edge\">\n<title>1806398321952*&#45;&gt;1806398321952</title>\n<path fill=\"none\" stroke=\"black\" d=\"M292.35,-73.5C300.22,-73.5 309.42,-73.5 319.31,-73.5\"/>\n<polygon fill=\"black\" stroke=\"black\" points=\"319.23,-77 329.23,-73.5 319.23,-70 319.23,-77\"/>\n</g>\n<!-- 1806398324544 -->\n<g id=\"node11\" class=\"node\">\n<title>1806398324544</title>\n<polygon fill=\"none\" stroke=\"black\" points=\"684,-82.5 684,-118.5 974,-118.5 974,-82.5 684,-82.5\"/>\n<text text-anchor=\"middle\" x=\"744.5\" y=\"-96.8\" font-family=\"Times New Roman,serif\" font-size=\"14.00\">x1 * w1 + x2 * w2</text>\n<polyline fill=\"none\" stroke=\"black\" points=\"805,-82.5 805,-118.5\"/>\n<text text-anchor=\"middle\" x=\"848\" y=\"-96.8\" font-family=\"Times New Roman,serif\" font-size=\"14.00\">data &#45;6.0000</text>\n<polyline fill=\"none\" stroke=\"black\" points=\"891,-82.5 891,-118.5\"/>\n<text text-anchor=\"middle\" x=\"932.5\" y=\"-96.8\" font-family=\"Times New Roman,serif\" font-size=\"14.00\">grad 0.0000</text>\n</g>\n<!-- 1806398324544&#45;&gt;1806398320896+ -->\n<g id=\"edge12\" class=\"edge\">\n<title>1806398324544&#45;&gt;1806398320896+</title>\n<path fill=\"none\" stroke=\"black\" d=\"M967.12,-118.47C978.57,-119.97 989.4,-121.39 998.92,-122.64\"/>\n<polygon fill=\"black\" stroke=\"black\" points=\"998.37,-126.1 1008.74,-123.93 999.28,-119.16 998.37,-126.1\"/>\n</g>\n<!-- 1806398324544+&#45;&gt;1806398324544 -->\n<g id=\"edge5\" class=\"edge\">\n<title>1806398324544+&#45;&gt;1806398324544</title>\n<path fill=\"none\" stroke=\"black\" d=\"M648.09,-100.5C655.33,-100.5 663.74,-100.5 672.89,-100.5\"/>\n<polygon fill=\"black\" stroke=\"black\" points=\"672.89,-104 682.89,-100.5 672.89,-97 672.89,-104\"/>\n</g>\n<!-- 1806398037824 -->\n<g id=\"node13\" class=\"node\">\n<title>1806398037824</title>\n<polygon fill=\"none\" stroke=\"black\" points=\"0,-165.5 0,-201.5 202,-201.5 202,-165.5 0,-165.5\"/>\n<text text-anchor=\"middle\" x=\"16.5\" y=\"-179.8\" font-family=\"Times New Roman,serif\" font-size=\"14.00\">w1</text>\n<polyline fill=\"none\" stroke=\"black\" points=\"33,-165.5 33,-201.5\"/>\n<text text-anchor=\"middle\" x=\"76\" y=\"-179.8\" font-family=\"Times New Roman,serif\" font-size=\"14.00\">data &#45;3.0000</text>\n<polyline fill=\"none\" stroke=\"black\" points=\"119,-165.5 119,-201.5\"/>\n<text text-anchor=\"middle\" x=\"160.5\" y=\"-179.8\" font-family=\"Times New Roman,serif\" font-size=\"14.00\">grad 0.0000</text>\n</g>\n<!-- 1806398037824&#45;&gt;1806398036096* -->\n<g id=\"edge8\" class=\"edge\">\n<title>1806398037824&#45;&gt;1806398036096*</title>\n<path fill=\"none\" stroke=\"black\" d=\"M173.99,-165.56C183.48,-162.75 193.03,-159.71 202,-156.5 212.1,-152.88 222.83,-148.31 232.49,-143.91\"/>\n<polygon fill=\"black\" stroke=\"black\" points=\"233.88,-147.12 241.46,-139.72 230.92,-140.78 233.88,-147.12\"/>\n</g>\n<!-- 1806398037872 -->\n<g id=\"node14\" class=\"node\">\n<title>1806398037872</title>\n<polygon fill=\"none\" stroke=\"black\" points=\"4,-110.5 4,-146.5 198,-146.5 198,-110.5 4,-110.5\"/>\n<text text-anchor=\"middle\" x=\"19\" y=\"-124.8\" font-family=\"Times New Roman,serif\" font-size=\"14.00\">x1</text>\n<polyline fill=\"none\" stroke=\"black\" points=\"34,-110.5 34,-146.5\"/>\n<text text-anchor=\"middle\" x=\"74.5\" y=\"-124.8\" font-family=\"Times New Roman,serif\" font-size=\"14.00\">data 2.0000</text>\n<polyline fill=\"none\" stroke=\"black\" points=\"115,-110.5 115,-146.5\"/>\n<text text-anchor=\"middle\" x=\"156.5\" y=\"-124.8\" font-family=\"Times New Roman,serif\" font-size=\"14.00\">grad 0.0000</text>\n</g>\n<!-- 1806398037872&#45;&gt;1806398036096* -->\n<g id=\"edge10\" class=\"edge\">\n<title>1806398037872&#45;&gt;1806398036096*</title>\n<path fill=\"none\" stroke=\"black\" d=\"M197.64,-128.5C207.72,-128.5 217.49,-128.5 226.29,-128.5\"/>\n<polygon fill=\"black\" stroke=\"black\" points=\"226.11,-132 236.11,-128.5 226.11,-125 226.11,-132\"/>\n</g>\n<!-- 1806398035424 -->\n<g id=\"node15\" class=\"node\">\n<title>1806398035424</title>\n<polygon fill=\"none\" stroke=\"black\" points=\"4,-0.5 4,-36.5 198,-36.5 198,-0.5 4,-0.5\"/>\n<text text-anchor=\"middle\" x=\"19\" y=\"-14.8\" font-family=\"Times New Roman,serif\" font-size=\"14.00\">x2</text>\n<polyline fill=\"none\" stroke=\"black\" points=\"34,-0.5 34,-36.5\"/>\n<text text-anchor=\"middle\" x=\"74.5\" y=\"-14.8\" font-family=\"Times New Roman,serif\" font-size=\"14.00\">data 0.0000</text>\n<polyline fill=\"none\" stroke=\"black\" points=\"115,-0.5 115,-36.5\"/>\n<text text-anchor=\"middle\" x=\"156.5\" y=\"-14.8\" font-family=\"Times New Roman,serif\" font-size=\"14.00\">grad 0.0000</text>\n</g>\n<!-- 1806398035424&#45;&gt;1806398321952* -->\n<g id=\"edge6\" class=\"edge\">\n<title>1806398035424&#45;&gt;1806398321952*</title>\n<path fill=\"none\" stroke=\"black\" d=\"M170.98,-36.47C181.45,-39.58 192.06,-42.96 202,-46.5 211.97,-50.05 222.6,-54.44 232.19,-58.65\"/>\n<polygon fill=\"black\" stroke=\"black\" points=\"230.55,-61.75 241.11,-62.64 233.41,-55.36 230.55,-61.75\"/>\n</g>\n</g>\n</svg>\n",
      "text/plain": [
       "<graphviz.graphs.Digraph at 0x1a4f6d800a0>"
      ]
     },
     "execution_count": 9,
     "metadata": {},
     "output_type": "execute_result"
    }
   ],
   "source": [
    "draw_dot(output)"
   ]
  },
  {
   "cell_type": "code",
   "execution_count": 10,
   "metadata": {},
   "outputs": [],
   "source": [
    "# backpropagation, output = tanh(x1w1 + x2w2 + b)\n",
    "\n",
    "# gradient of output is just 1\n",
    "output.grad = 1.0\n",
    "\n",
    "# do/dn = 1 - tanh(n)^2 (derivative of tanh, from wiki)\n",
    "# -> do/dn = 1 - output^2\n",
    "neuron.grad = 1 - (output.data)**2\n",
    "\n",
    "# + operator just backflows the gradient\n",
    "x1w1x2w2.grad = neuron.grad\n",
    "b.grad = neuron.grad\n",
    "x1w1.grad = x1w1x2w2.grad\n",
    "x2w2.grad = x1w1x2w2.grad\n",
    "\n",
    "# do/dx2 = do/dx2w2 * dx2w2/dx2 (local derivative of a * operator is just the other input)\n",
    "x2.grad = x2w2.grad * w2.data\n",
    "\n",
    "# do/dw2 = do/dx2w2 * dx2w2/dw2\n",
    "w2.grad = x2w2.grad * x2.data\n",
    "\n",
    "x1.grad = x1w1.grad * w1.data\n",
    "w1.grad = x1w1.grad * x1.data"
   ]
  },
  {
   "cell_type": "code",
   "execution_count": 11,
   "metadata": {},
   "outputs": [
    {
     "data": {
      "image/svg+xml": "<?xml version=\"1.0\" encoding=\"UTF-8\" standalone=\"no\"?>\n<!DOCTYPE svg PUBLIC \"-//W3C//DTD SVG 1.1//EN\"\n \"http://www.w3.org/Graphics/SVG/1.1/DTD/svg11.dtd\">\n<!-- Generated by graphviz version 7.1.0 (20230121.1956)\n -->\n<!-- Pages: 1 -->\n<svg width=\"1670pt\" height=\"210pt\"\n viewBox=\"0.00 0.00 1670.00 210.00\" xmlns=\"http://www.w3.org/2000/svg\" xmlns:xlink=\"http://www.w3.org/1999/xlink\">\n<g id=\"graph0\" class=\"graph\" transform=\"scale(1 1) rotate(0) translate(4 206)\">\n<polygon fill=\"white\" stroke=\"none\" points=\"-4,4 -4,-206 1666,-206 1666,4 -4,4\"/>\n<!-- 1806398035472 -->\n<g id=\"node1\" class=\"node\">\n<title>1806398035472</title>\n<polygon fill=\"none\" stroke=\"black\" points=\"735,-137.5 735,-173.5 923,-173.5 923,-137.5 735,-137.5\"/>\n<text text-anchor=\"middle\" x=\"747\" y=\"-151.8\" font-family=\"Times New Roman,serif\" font-size=\"14.00\">b</text>\n<polyline fill=\"none\" stroke=\"black\" points=\"759,-137.5 759,-173.5\"/>\n<text text-anchor=\"middle\" x=\"799.5\" y=\"-151.8\" font-family=\"Times New Roman,serif\" font-size=\"14.00\">data 6.8814</text>\n<polyline fill=\"none\" stroke=\"black\" points=\"840,-137.5 840,-173.5\"/>\n<text text-anchor=\"middle\" x=\"881.5\" y=\"-151.8\" font-family=\"Times New Roman,serif\" font-size=\"14.00\">grad 0.5000</text>\n</g>\n<!-- 1806398320896+ -->\n<g id=\"node6\" class=\"node\">\n<title>1806398320896+</title>\n<ellipse fill=\"none\" stroke=\"black\" cx=\"1037\" cy=\"-127.5\" rx=\"27\" ry=\"18\"/>\n<text text-anchor=\"middle\" x=\"1037\" y=\"-123.8\" font-family=\"Times New Roman,serif\" font-size=\"14.00\">+</text>\n</g>\n<!-- 1806398035472&#45;&gt;1806398320896+ -->\n<g id=\"edge13\" class=\"edge\">\n<title>1806398035472&#45;&gt;1806398320896+</title>\n<path fill=\"none\" stroke=\"black\" d=\"M922.76,-142.89C949.79,-139.22 977.77,-135.41 999.16,-132.51\"/>\n<polygon fill=\"black\" stroke=\"black\" points=\"999.37,-136.01 1008.81,-131.2 998.43,-129.07 999.37,-136.01\"/>\n</g>\n<!-- 1806398036096 -->\n<g id=\"node2\" class=\"node\">\n<title>1806398036096</title>\n<polygon fill=\"none\" stroke=\"black\" points=\"328,-110.5 328,-146.5 558,-146.5 558,-110.5 328,-110.5\"/>\n<text text-anchor=\"middle\" x=\"358.5\" y=\"-124.8\" font-family=\"Times New Roman,serif\" font-size=\"14.00\">x1 * w1</text>\n<polyline fill=\"none\" stroke=\"black\" points=\"389,-110.5 389,-146.5\"/>\n<text text-anchor=\"middle\" x=\"432\" y=\"-124.8\" font-family=\"Times New Roman,serif\" font-size=\"14.00\">data &#45;6.0000</text>\n<polyline fill=\"none\" stroke=\"black\" points=\"475,-110.5 475,-146.5\"/>\n<text text-anchor=\"middle\" x=\"516.5\" y=\"-124.8\" font-family=\"Times New Roman,serif\" font-size=\"14.00\">grad 0.5000</text>\n</g>\n<!-- 1806398324544+ -->\n<g id=\"node12\" class=\"node\">\n<title>1806398324544+</title>\n<ellipse fill=\"none\" stroke=\"black\" cx=\"621\" cy=\"-100.5\" rx=\"27\" ry=\"18\"/>\n<text text-anchor=\"middle\" x=\"621\" y=\"-96.8\" font-family=\"Times New Roman,serif\" font-size=\"14.00\">+</text>\n</g>\n<!-- 1806398036096&#45;&gt;1806398324544+ -->\n<g id=\"edge9\" class=\"edge\">\n<title>1806398036096&#45;&gt;1806398324544+</title>\n<path fill=\"none\" stroke=\"black\" d=\"M556.96,-110.53C566.31,-109.04 575.26,-107.62 583.32,-106.34\"/>\n<polygon fill=\"black\" stroke=\"black\" points=\"583.62,-109.83 592.95,-104.8 582.52,-102.92 583.62,-109.83\"/>\n</g>\n<!-- 1806398036096* -->\n<g id=\"node3\" class=\"node\">\n<title>1806398036096*</title>\n<ellipse fill=\"none\" stroke=\"black\" cx=\"265\" cy=\"-128.5\" rx=\"27\" ry=\"18\"/>\n<text text-anchor=\"middle\" x=\"265\" y=\"-124.8\" font-family=\"Times New Roman,serif\" font-size=\"14.00\">*</text>\n</g>\n<!-- 1806398036096*&#45;&gt;1806398036096 -->\n<g id=\"edge1\" class=\"edge\">\n<title>1806398036096*&#45;&gt;1806398036096</title>\n<path fill=\"none\" stroke=\"black\" d=\"M292.35,-128.5C299.58,-128.5 307.92,-128.5 316.89,-128.5\"/>\n<polygon fill=\"black\" stroke=\"black\" points=\"316.6,-132 326.6,-128.5 316.6,-125 316.6,-132\"/>\n</g>\n<!-- 1806398037152 -->\n<g id=\"node4\" class=\"node\">\n<title>1806398037152</title>\n<polygon fill=\"none\" stroke=\"black\" points=\"2.5,-55.5 2.5,-91.5 199.5,-91.5 199.5,-55.5 2.5,-55.5\"/>\n<text text-anchor=\"middle\" x=\"19\" y=\"-69.8\" font-family=\"Times New Roman,serif\" font-size=\"14.00\">w2</text>\n<polyline fill=\"none\" stroke=\"black\" points=\"35.5,-55.5 35.5,-91.5\"/>\n<text text-anchor=\"middle\" x=\"76\" y=\"-69.8\" font-family=\"Times New Roman,serif\" font-size=\"14.00\">data 1.0000</text>\n<polyline fill=\"none\" stroke=\"black\" points=\"116.5,-55.5 116.5,-91.5\"/>\n<text text-anchor=\"middle\" x=\"158\" y=\"-69.8\" font-family=\"Times New Roman,serif\" font-size=\"14.00\">grad 0.0000</text>\n</g>\n<!-- 1806398321952* -->\n<g id=\"node10\" class=\"node\">\n<title>1806398321952*</title>\n<ellipse fill=\"none\" stroke=\"black\" cx=\"265\" cy=\"-73.5\" rx=\"27\" ry=\"18\"/>\n<text text-anchor=\"middle\" x=\"265\" y=\"-69.8\" font-family=\"Times New Roman,serif\" font-size=\"14.00\">*</text>\n</g>\n<!-- 1806398037152&#45;&gt;1806398321952* -->\n<g id=\"edge7\" class=\"edge\">\n<title>1806398037152&#45;&gt;1806398321952*</title>\n<path fill=\"none\" stroke=\"black\" d=\"M199.04,-73.5C208.66,-73.5 217.96,-73.5 226.38,-73.5\"/>\n<polygon fill=\"black\" stroke=\"black\" points=\"226.12,-77 236.12,-73.5 226.12,-70 226.12,-77\"/>\n</g>\n<!-- 1806398320896 -->\n<g id=\"node5\" class=\"node\">\n<title>1806398320896</title>\n<polygon fill=\"none\" stroke=\"black\" points=\"1100,-109.5 1100,-145.5 1319,-145.5 1319,-109.5 1100,-109.5\"/>\n<text text-anchor=\"middle\" x=\"1127.5\" y=\"-123.8\" font-family=\"Times New Roman,serif\" font-size=\"14.00\">neuron</text>\n<polyline fill=\"none\" stroke=\"black\" points=\"1155,-109.5 1155,-145.5\"/>\n<text text-anchor=\"middle\" x=\"1195.5\" y=\"-123.8\" font-family=\"Times New Roman,serif\" font-size=\"14.00\">data 0.8814</text>\n<polyline fill=\"none\" stroke=\"black\" points=\"1236,-109.5 1236,-145.5\"/>\n<text text-anchor=\"middle\" x=\"1277.5\" y=\"-123.8\" font-family=\"Times New Roman,serif\" font-size=\"14.00\">grad 0.5000</text>\n</g>\n<!-- 1806398323056tanh -->\n<g id=\"node8\" class=\"node\">\n<title>1806398323056tanh</title>\n<ellipse fill=\"none\" stroke=\"black\" cx=\"1382\" cy=\"-127.5\" rx=\"27\" ry=\"18\"/>\n<text text-anchor=\"middle\" x=\"1382\" y=\"-123.8\" font-family=\"Times New Roman,serif\" font-size=\"14.00\">tanh</text>\n</g>\n<!-- 1806398320896&#45;&gt;1806398323056tanh -->\n<g id=\"edge14\" class=\"edge\">\n<title>1806398320896&#45;&gt;1806398323056tanh</title>\n<path fill=\"none\" stroke=\"black\" d=\"M1318.96,-127.5C1327.48,-127.5 1335.66,-127.5 1343.13,-127.5\"/>\n<polygon fill=\"black\" stroke=\"black\" points=\"1343.09,-131 1353.09,-127.5 1343.09,-124 1343.09,-131\"/>\n</g>\n<!-- 1806398320896+&#45;&gt;1806398320896 -->\n<g id=\"edge2\" class=\"edge\">\n<title>1806398320896+&#45;&gt;1806398320896</title>\n<path fill=\"none\" stroke=\"black\" d=\"M1064.27,-127.5C1071.43,-127.5 1079.67,-127.5 1088.52,-127.5\"/>\n<polygon fill=\"black\" stroke=\"black\" points=\"1088.51,-131 1098.51,-127.5 1088.51,-124 1088.51,-131\"/>\n</g>\n<!-- 1806398323056 -->\n<g id=\"node7\" class=\"node\">\n<title>1806398323056</title>\n<polygon fill=\"none\" stroke=\"black\" points=\"1445,-109.5 1445,-145.5 1662,-145.5 1662,-109.5 1445,-109.5\"/>\n<text text-anchor=\"middle\" x=\"1471.5\" y=\"-123.8\" font-family=\"Times New Roman,serif\" font-size=\"14.00\">output</text>\n<polyline fill=\"none\" stroke=\"black\" points=\"1498,-109.5 1498,-145.5\"/>\n<text text-anchor=\"middle\" x=\"1538.5\" y=\"-123.8\" font-family=\"Times New Roman,serif\" font-size=\"14.00\">data 0.7071</text>\n<polyline fill=\"none\" stroke=\"black\" points=\"1579,-109.5 1579,-145.5\"/>\n<text text-anchor=\"middle\" x=\"1620.5\" y=\"-123.8\" font-family=\"Times New Roman,serif\" font-size=\"14.00\">grad 1.0000</text>\n</g>\n<!-- 1806398323056tanh&#45;&gt;1806398323056 -->\n<g id=\"edge3\" class=\"edge\">\n<title>1806398323056tanh&#45;&gt;1806398323056</title>\n<path fill=\"none\" stroke=\"black\" d=\"M1409.48,-127.5C1416.62,-127.5 1424.82,-127.5 1433.62,-127.5\"/>\n<polygon fill=\"black\" stroke=\"black\" points=\"1433.52,-131 1443.52,-127.5 1433.52,-124 1433.52,-131\"/>\n</g>\n<!-- 1806398321952 -->\n<g id=\"node9\" class=\"node\">\n<title>1806398321952</title>\n<polygon fill=\"none\" stroke=\"black\" points=\"330.5,-55.5 330.5,-91.5 555.5,-91.5 555.5,-55.5 330.5,-55.5\"/>\n<text text-anchor=\"middle\" x=\"361\" y=\"-69.8\" font-family=\"Times New Roman,serif\" font-size=\"14.00\">x2 * w2</text>\n<polyline fill=\"none\" stroke=\"black\" points=\"391.5,-55.5 391.5,-91.5\"/>\n<text text-anchor=\"middle\" x=\"432\" y=\"-69.8\" font-family=\"Times New Roman,serif\" font-size=\"14.00\">data 0.0000</text>\n<polyline fill=\"none\" stroke=\"black\" points=\"472.5,-55.5 472.5,-91.5\"/>\n<text text-anchor=\"middle\" x=\"514\" y=\"-69.8\" font-family=\"Times New Roman,serif\" font-size=\"14.00\">grad 0.5000</text>\n</g>\n<!-- 1806398321952&#45;&gt;1806398324544+ -->\n<g id=\"edge11\" class=\"edge\">\n<title>1806398321952&#45;&gt;1806398324544+</title>\n<path fill=\"none\" stroke=\"black\" d=\"M555.46,-90.6C565.29,-92.11 574.7,-93.55 583.15,-94.85\"/>\n<polygon fill=\"black\" stroke=\"black\" points=\"582.48,-98.28 592.89,-96.34 583.54,-91.37 582.48,-98.28\"/>\n</g>\n<!-- 1806398321952*&#45;&gt;1806398321952 -->\n<g id=\"edge4\" class=\"edge\">\n<title>1806398321952*&#45;&gt;1806398321952</title>\n<path fill=\"none\" stroke=\"black\" d=\"M292.35,-73.5C300.22,-73.5 309.42,-73.5 319.31,-73.5\"/>\n<polygon fill=\"black\" stroke=\"black\" points=\"319.23,-77 329.23,-73.5 319.23,-70 319.23,-77\"/>\n</g>\n<!-- 1806398324544 -->\n<g id=\"node11\" class=\"node\">\n<title>1806398324544</title>\n<polygon fill=\"none\" stroke=\"black\" points=\"684,-82.5 684,-118.5 974,-118.5 974,-82.5 684,-82.5\"/>\n<text text-anchor=\"middle\" x=\"744.5\" y=\"-96.8\" font-family=\"Times New Roman,serif\" font-size=\"14.00\">x1 * w1 + x2 * w2</text>\n<polyline fill=\"none\" stroke=\"black\" points=\"805,-82.5 805,-118.5\"/>\n<text text-anchor=\"middle\" x=\"848\" y=\"-96.8\" font-family=\"Times New Roman,serif\" font-size=\"14.00\">data &#45;6.0000</text>\n<polyline fill=\"none\" stroke=\"black\" points=\"891,-82.5 891,-118.5\"/>\n<text text-anchor=\"middle\" x=\"932.5\" y=\"-96.8\" font-family=\"Times New Roman,serif\" font-size=\"14.00\">grad 0.5000</text>\n</g>\n<!-- 1806398324544&#45;&gt;1806398320896+ -->\n<g id=\"edge12\" class=\"edge\">\n<title>1806398324544&#45;&gt;1806398320896+</title>\n<path fill=\"none\" stroke=\"black\" d=\"M967.12,-118.47C978.57,-119.97 989.4,-121.39 998.92,-122.64\"/>\n<polygon fill=\"black\" stroke=\"black\" points=\"998.37,-126.1 1008.74,-123.93 999.28,-119.16 998.37,-126.1\"/>\n</g>\n<!-- 1806398324544+&#45;&gt;1806398324544 -->\n<g id=\"edge5\" class=\"edge\">\n<title>1806398324544+&#45;&gt;1806398324544</title>\n<path fill=\"none\" stroke=\"black\" d=\"M648.09,-100.5C655.33,-100.5 663.74,-100.5 672.89,-100.5\"/>\n<polygon fill=\"black\" stroke=\"black\" points=\"672.89,-104 682.89,-100.5 672.89,-97 672.89,-104\"/>\n</g>\n<!-- 1806398037824 -->\n<g id=\"node13\" class=\"node\">\n<title>1806398037824</title>\n<polygon fill=\"none\" stroke=\"black\" points=\"0,-165.5 0,-201.5 202,-201.5 202,-165.5 0,-165.5\"/>\n<text text-anchor=\"middle\" x=\"16.5\" y=\"-179.8\" font-family=\"Times New Roman,serif\" font-size=\"14.00\">w1</text>\n<polyline fill=\"none\" stroke=\"black\" points=\"33,-165.5 33,-201.5\"/>\n<text text-anchor=\"middle\" x=\"76\" y=\"-179.8\" font-family=\"Times New Roman,serif\" font-size=\"14.00\">data &#45;3.0000</text>\n<polyline fill=\"none\" stroke=\"black\" points=\"119,-165.5 119,-201.5\"/>\n<text text-anchor=\"middle\" x=\"160.5\" y=\"-179.8\" font-family=\"Times New Roman,serif\" font-size=\"14.00\">grad 1.0000</text>\n</g>\n<!-- 1806398037824&#45;&gt;1806398036096* -->\n<g id=\"edge8\" class=\"edge\">\n<title>1806398037824&#45;&gt;1806398036096*</title>\n<path fill=\"none\" stroke=\"black\" d=\"M173.99,-165.56C183.48,-162.75 193.03,-159.71 202,-156.5 212.1,-152.88 222.83,-148.31 232.49,-143.91\"/>\n<polygon fill=\"black\" stroke=\"black\" points=\"233.88,-147.12 241.46,-139.72 230.92,-140.78 233.88,-147.12\"/>\n</g>\n<!-- 1806398037872 -->\n<g id=\"node14\" class=\"node\">\n<title>1806398037872</title>\n<polygon fill=\"none\" stroke=\"black\" points=\"2,-110.5 2,-146.5 200,-146.5 200,-110.5 2,-110.5\"/>\n<text text-anchor=\"middle\" x=\"17\" y=\"-124.8\" font-family=\"Times New Roman,serif\" font-size=\"14.00\">x1</text>\n<polyline fill=\"none\" stroke=\"black\" points=\"32,-110.5 32,-146.5\"/>\n<text text-anchor=\"middle\" x=\"72.5\" y=\"-124.8\" font-family=\"Times New Roman,serif\" font-size=\"14.00\">data 2.0000</text>\n<polyline fill=\"none\" stroke=\"black\" points=\"113,-110.5 113,-146.5\"/>\n<text text-anchor=\"middle\" x=\"156.5\" y=\"-124.8\" font-family=\"Times New Roman,serif\" font-size=\"14.00\">grad &#45;1.5000</text>\n</g>\n<!-- 1806398037872&#45;&gt;1806398036096* -->\n<g id=\"edge10\" class=\"edge\">\n<title>1806398037872&#45;&gt;1806398036096*</title>\n<path fill=\"none\" stroke=\"black\" d=\"M199.97,-128.5C209.29,-128.5 218.28,-128.5 226.45,-128.5\"/>\n<polygon fill=\"black\" stroke=\"black\" points=\"226.23,-132 236.23,-128.5 226.23,-125 226.23,-132\"/>\n</g>\n<!-- 1806398035424 -->\n<g id=\"node15\" class=\"node\">\n<title>1806398035424</title>\n<polygon fill=\"none\" stroke=\"black\" points=\"4,-0.5 4,-36.5 198,-36.5 198,-0.5 4,-0.5\"/>\n<text text-anchor=\"middle\" x=\"19\" y=\"-14.8\" font-family=\"Times New Roman,serif\" font-size=\"14.00\">x2</text>\n<polyline fill=\"none\" stroke=\"black\" points=\"34,-0.5 34,-36.5\"/>\n<text text-anchor=\"middle\" x=\"74.5\" y=\"-14.8\" font-family=\"Times New Roman,serif\" font-size=\"14.00\">data 0.0000</text>\n<polyline fill=\"none\" stroke=\"black\" points=\"115,-0.5 115,-36.5\"/>\n<text text-anchor=\"middle\" x=\"156.5\" y=\"-14.8\" font-family=\"Times New Roman,serif\" font-size=\"14.00\">grad 0.5000</text>\n</g>\n<!-- 1806398035424&#45;&gt;1806398321952* -->\n<g id=\"edge6\" class=\"edge\">\n<title>1806398035424&#45;&gt;1806398321952*</title>\n<path fill=\"none\" stroke=\"black\" d=\"M170.98,-36.47C181.45,-39.58 192.06,-42.96 202,-46.5 211.97,-50.05 222.6,-54.44 232.19,-58.65\"/>\n<polygon fill=\"black\" stroke=\"black\" points=\"230.55,-61.75 241.11,-62.64 233.41,-55.36 230.55,-61.75\"/>\n</g>\n</g>\n</svg>\n",
      "text/plain": [
       "<graphviz.graphs.Digraph at 0x1a495b832b0>"
      ]
     },
     "execution_count": 11,
     "metadata": {},
     "output_type": "execute_result"
    }
   ],
   "source": [
    "draw_dot(output)"
   ]
  },
  {
   "cell_type": "code",
   "execution_count": 12,
   "metadata": {},
   "outputs": [],
   "source": [
    "# that was manual calculation, now use the implemented backprop function to backprop gradient\n",
    "\n",
    "# clear the manual calulcated gradients first\n",
    "x1 = Value(2.0, label='x1')\n",
    "x2 = Value(0.0, label='x2')\n",
    "w1 = Value(-3.0, label='w1')\n",
    "w2 = Value(1.0, label='w2')\n",
    "b = Value(6.8813735870195432, label='b')\n",
    "x1w1 = x1 * w1\n",
    "x1w1.label = 'x1 * w1'\n",
    "x2w2 = x2 * w2\n",
    "x2w2.label = 'x2 * w2'\n",
    "x1w1x2w2 = x1w1 + x2w2\n",
    "x1w1x2w2.label = 'x1 * w1 + x2 * w2'\n",
    "neuron = x1w1x2w2 + b\n",
    "neuron.label = 'neuron'\n",
    "output = neuron.tanh()\n",
    "output.label = 'output'\n",
    "\n",
    "# backprop\n",
    "output.grad = 1.0  # set output gradient to 1 first (since the class init to 0)\n",
    "output._backward()\n",
    "neuron._backward()\n",
    "x1w1x2w2._backward()\n",
    "x2w2._backward()\n",
    "x1w1._backward()"
   ]
  },
  {
   "cell_type": "code",
   "execution_count": 13,
   "metadata": {},
   "outputs": [
    {
     "data": {
      "image/svg+xml": "<?xml version=\"1.0\" encoding=\"UTF-8\" standalone=\"no\"?>\n<!DOCTYPE svg PUBLIC \"-//W3C//DTD SVG 1.1//EN\"\n \"http://www.w3.org/Graphics/SVG/1.1/DTD/svg11.dtd\">\n<!-- Generated by graphviz version 7.1.0 (20230121.1956)\n -->\n<!-- Pages: 1 -->\n<svg width=\"1670pt\" height=\"210pt\"\n viewBox=\"0.00 0.00 1670.00 210.00\" xmlns=\"http://www.w3.org/2000/svg\" xmlns:xlink=\"http://www.w3.org/1999/xlink\">\n<g id=\"graph0\" class=\"graph\" transform=\"scale(1 1) rotate(0) translate(4 206)\">\n<polygon fill=\"white\" stroke=\"none\" points=\"-4,4 -4,-206 1666,-206 1666,4 -4,4\"/>\n<!-- 1806398302720 -->\n<g id=\"node1\" class=\"node\">\n<title>1806398302720</title>\n<polygon fill=\"none\" stroke=\"black\" points=\"684,-82.5 684,-118.5 974,-118.5 974,-82.5 684,-82.5\"/>\n<text text-anchor=\"middle\" x=\"744.5\" y=\"-96.8\" font-family=\"Times New Roman,serif\" font-size=\"14.00\">x1 * w1 + x2 * w2</text>\n<polyline fill=\"none\" stroke=\"black\" points=\"805,-82.5 805,-118.5\"/>\n<text text-anchor=\"middle\" x=\"848\" y=\"-96.8\" font-family=\"Times New Roman,serif\" font-size=\"14.00\">data &#45;6.0000</text>\n<polyline fill=\"none\" stroke=\"black\" points=\"891,-82.5 891,-118.5\"/>\n<text text-anchor=\"middle\" x=\"932.5\" y=\"-96.8\" font-family=\"Times New Roman,serif\" font-size=\"14.00\">grad 0.5000</text>\n</g>\n<!-- 1806398303296+ -->\n<g id=\"node5\" class=\"node\">\n<title>1806398303296+</title>\n<ellipse fill=\"none\" stroke=\"black\" cx=\"1037\" cy=\"-127.5\" rx=\"27\" ry=\"18\"/>\n<text text-anchor=\"middle\" x=\"1037\" y=\"-123.8\" font-family=\"Times New Roman,serif\" font-size=\"14.00\">+</text>\n</g>\n<!-- 1806398302720&#45;&gt;1806398303296+ -->\n<g id=\"edge10\" class=\"edge\">\n<title>1806398302720&#45;&gt;1806398303296+</title>\n<path fill=\"none\" stroke=\"black\" d=\"M967.12,-118.47C978.57,-119.97 989.4,-121.39 998.92,-122.64\"/>\n<polygon fill=\"black\" stroke=\"black\" points=\"998.37,-126.1 1008.74,-123.93 999.28,-119.16 998.37,-126.1\"/>\n</g>\n<!-- 1806398302720+ -->\n<g id=\"node2\" class=\"node\">\n<title>1806398302720+</title>\n<ellipse fill=\"none\" stroke=\"black\" cx=\"621\" cy=\"-100.5\" rx=\"27\" ry=\"18\"/>\n<text text-anchor=\"middle\" x=\"621\" y=\"-96.8\" font-family=\"Times New Roman,serif\" font-size=\"14.00\">+</text>\n</g>\n<!-- 1806398302720+&#45;&gt;1806398302720 -->\n<g id=\"edge1\" class=\"edge\">\n<title>1806398302720+&#45;&gt;1806398302720</title>\n<path fill=\"none\" stroke=\"black\" d=\"M648.09,-100.5C655.33,-100.5 663.74,-100.5 672.89,-100.5\"/>\n<polygon fill=\"black\" stroke=\"black\" points=\"672.89,-104 682.89,-100.5 672.89,-97 672.89,-104\"/>\n</g>\n<!-- 1808026461712 -->\n<g id=\"node3\" class=\"node\">\n<title>1808026461712</title>\n<polygon fill=\"none\" stroke=\"black\" points=\"735,-137.5 735,-173.5 923,-173.5 923,-137.5 735,-137.5\"/>\n<text text-anchor=\"middle\" x=\"747\" y=\"-151.8\" font-family=\"Times New Roman,serif\" font-size=\"14.00\">b</text>\n<polyline fill=\"none\" stroke=\"black\" points=\"759,-137.5 759,-173.5\"/>\n<text text-anchor=\"middle\" x=\"799.5\" y=\"-151.8\" font-family=\"Times New Roman,serif\" font-size=\"14.00\">data 6.8814</text>\n<polyline fill=\"none\" stroke=\"black\" points=\"840,-137.5 840,-173.5\"/>\n<text text-anchor=\"middle\" x=\"881.5\" y=\"-151.8\" font-family=\"Times New Roman,serif\" font-size=\"14.00\">grad 0.5000</text>\n</g>\n<!-- 1808026461712&#45;&gt;1806398303296+ -->\n<g id=\"edge13\" class=\"edge\">\n<title>1808026461712&#45;&gt;1806398303296+</title>\n<path fill=\"none\" stroke=\"black\" d=\"M922.76,-142.89C949.79,-139.22 977.77,-135.41 999.16,-132.51\"/>\n<polygon fill=\"black\" stroke=\"black\" points=\"999.37,-136.01 1008.81,-131.2 998.43,-129.07 999.37,-136.01\"/>\n</g>\n<!-- 1806398303296 -->\n<g id=\"node4\" class=\"node\">\n<title>1806398303296</title>\n<polygon fill=\"none\" stroke=\"black\" points=\"1100,-109.5 1100,-145.5 1319,-145.5 1319,-109.5 1100,-109.5\"/>\n<text text-anchor=\"middle\" x=\"1127.5\" y=\"-123.8\" font-family=\"Times New Roman,serif\" font-size=\"14.00\">neuron</text>\n<polyline fill=\"none\" stroke=\"black\" points=\"1155,-109.5 1155,-145.5\"/>\n<text text-anchor=\"middle\" x=\"1195.5\" y=\"-123.8\" font-family=\"Times New Roman,serif\" font-size=\"14.00\">data 0.8814</text>\n<polyline fill=\"none\" stroke=\"black\" points=\"1236,-109.5 1236,-145.5\"/>\n<text text-anchor=\"middle\" x=\"1277.5\" y=\"-123.8\" font-family=\"Times New Roman,serif\" font-size=\"14.00\">grad 0.5000</text>\n</g>\n<!-- 1806398302960tanh -->\n<g id=\"node8\" class=\"node\">\n<title>1806398302960tanh</title>\n<ellipse fill=\"none\" stroke=\"black\" cx=\"1382\" cy=\"-127.5\" rx=\"27\" ry=\"18\"/>\n<text text-anchor=\"middle\" x=\"1382\" y=\"-123.8\" font-family=\"Times New Roman,serif\" font-size=\"14.00\">tanh</text>\n</g>\n<!-- 1806398303296&#45;&gt;1806398302960tanh -->\n<g id=\"edge14\" class=\"edge\">\n<title>1806398303296&#45;&gt;1806398302960tanh</title>\n<path fill=\"none\" stroke=\"black\" d=\"M1318.96,-127.5C1327.48,-127.5 1335.66,-127.5 1343.13,-127.5\"/>\n<polygon fill=\"black\" stroke=\"black\" points=\"1343.09,-131 1353.09,-127.5 1343.09,-124 1343.09,-131\"/>\n</g>\n<!-- 1806398303296+&#45;&gt;1806398303296 -->\n<g id=\"edge2\" class=\"edge\">\n<title>1806398303296+&#45;&gt;1806398303296</title>\n<path fill=\"none\" stroke=\"black\" d=\"M1064.27,-127.5C1071.43,-127.5 1079.67,-127.5 1088.52,-127.5\"/>\n<polygon fill=\"black\" stroke=\"black\" points=\"1088.51,-131 1098.51,-127.5 1088.51,-124 1088.51,-131\"/>\n</g>\n<!-- 1808027618896 -->\n<g id=\"node6\" class=\"node\">\n<title>1808027618896</title>\n<polygon fill=\"none\" stroke=\"black\" points=\"4,-165.5 4,-201.5 198,-201.5 198,-165.5 4,-165.5\"/>\n<text text-anchor=\"middle\" x=\"19\" y=\"-179.8\" font-family=\"Times New Roman,serif\" font-size=\"14.00\">x2</text>\n<polyline fill=\"none\" stroke=\"black\" points=\"34,-165.5 34,-201.5\"/>\n<text text-anchor=\"middle\" x=\"74.5\" y=\"-179.8\" font-family=\"Times New Roman,serif\" font-size=\"14.00\">data 0.0000</text>\n<polyline fill=\"none\" stroke=\"black\" points=\"115,-165.5 115,-201.5\"/>\n<text text-anchor=\"middle\" x=\"156.5\" y=\"-179.8\" font-family=\"Times New Roman,serif\" font-size=\"14.00\">grad 0.5000</text>\n</g>\n<!-- 1806398304112* -->\n<g id=\"node10\" class=\"node\">\n<title>1806398304112*</title>\n<ellipse fill=\"none\" stroke=\"black\" cx=\"265\" cy=\"-128.5\" rx=\"27\" ry=\"18\"/>\n<text text-anchor=\"middle\" x=\"265\" y=\"-124.8\" font-family=\"Times New Roman,serif\" font-size=\"14.00\">*</text>\n</g>\n<!-- 1808027618896&#45;&gt;1806398304112* -->\n<g id=\"edge6\" class=\"edge\">\n<title>1808027618896&#45;&gt;1806398304112*</title>\n<path fill=\"none\" stroke=\"black\" d=\"M173.99,-165.56C183.48,-162.75 193.03,-159.71 202,-156.5 212.1,-152.88 222.83,-148.31 232.49,-143.91\"/>\n<polygon fill=\"black\" stroke=\"black\" points=\"233.88,-147.12 241.46,-139.72 230.92,-140.78 233.88,-147.12\"/>\n</g>\n<!-- 1806398302960 -->\n<g id=\"node7\" class=\"node\">\n<title>1806398302960</title>\n<polygon fill=\"none\" stroke=\"black\" points=\"1445,-109.5 1445,-145.5 1662,-145.5 1662,-109.5 1445,-109.5\"/>\n<text text-anchor=\"middle\" x=\"1471.5\" y=\"-123.8\" font-family=\"Times New Roman,serif\" font-size=\"14.00\">output</text>\n<polyline fill=\"none\" stroke=\"black\" points=\"1498,-109.5 1498,-145.5\"/>\n<text text-anchor=\"middle\" x=\"1538.5\" y=\"-123.8\" font-family=\"Times New Roman,serif\" font-size=\"14.00\">data 0.7071</text>\n<polyline fill=\"none\" stroke=\"black\" points=\"1579,-109.5 1579,-145.5\"/>\n<text text-anchor=\"middle\" x=\"1620.5\" y=\"-123.8\" font-family=\"Times New Roman,serif\" font-size=\"14.00\">grad 1.0000</text>\n</g>\n<!-- 1806398302960tanh&#45;&gt;1806398302960 -->\n<g id=\"edge3\" class=\"edge\">\n<title>1806398302960tanh&#45;&gt;1806398302960</title>\n<path fill=\"none\" stroke=\"black\" d=\"M1409.48,-127.5C1416.62,-127.5 1424.82,-127.5 1433.62,-127.5\"/>\n<polygon fill=\"black\" stroke=\"black\" points=\"1433.52,-131 1443.52,-127.5 1433.52,-124 1433.52,-131\"/>\n</g>\n<!-- 1806398304112 -->\n<g id=\"node9\" class=\"node\">\n<title>1806398304112</title>\n<polygon fill=\"none\" stroke=\"black\" points=\"330.5,-110.5 330.5,-146.5 555.5,-146.5 555.5,-110.5 330.5,-110.5\"/>\n<text text-anchor=\"middle\" x=\"361\" y=\"-124.8\" font-family=\"Times New Roman,serif\" font-size=\"14.00\">x2 * w2</text>\n<polyline fill=\"none\" stroke=\"black\" points=\"391.5,-110.5 391.5,-146.5\"/>\n<text text-anchor=\"middle\" x=\"432\" y=\"-124.8\" font-family=\"Times New Roman,serif\" font-size=\"14.00\">data 0.0000</text>\n<polyline fill=\"none\" stroke=\"black\" points=\"472.5,-110.5 472.5,-146.5\"/>\n<text text-anchor=\"middle\" x=\"514\" y=\"-124.8\" font-family=\"Times New Roman,serif\" font-size=\"14.00\">grad 0.5000</text>\n</g>\n<!-- 1806398304112&#45;&gt;1806398302720+ -->\n<g id=\"edge9\" class=\"edge\">\n<title>1806398304112&#45;&gt;1806398302720+</title>\n<path fill=\"none\" stroke=\"black\" d=\"M555.46,-110.77C565.29,-109.2 574.7,-107.71 583.15,-106.36\"/>\n<polygon fill=\"black\" stroke=\"black\" points=\"583.57,-109.84 592.9,-104.81 582.47,-102.93 583.57,-109.84\"/>\n</g>\n<!-- 1806398304112*&#45;&gt;1806398304112 -->\n<g id=\"edge4\" class=\"edge\">\n<title>1806398304112*&#45;&gt;1806398304112</title>\n<path fill=\"none\" stroke=\"black\" d=\"M292.35,-128.5C300.22,-128.5 309.42,-128.5 319.31,-128.5\"/>\n<polygon fill=\"black\" stroke=\"black\" points=\"319.23,-132 329.23,-128.5 319.23,-125 319.23,-132\"/>\n</g>\n<!-- 1808027618176 -->\n<g id=\"node11\" class=\"node\">\n<title>1808027618176</title>\n<polygon fill=\"none\" stroke=\"black\" points=\"2,-55.5 2,-91.5 200,-91.5 200,-55.5 2,-55.5\"/>\n<text text-anchor=\"middle\" x=\"17\" y=\"-69.8\" font-family=\"Times New Roman,serif\" font-size=\"14.00\">x1</text>\n<polyline fill=\"none\" stroke=\"black\" points=\"32,-55.5 32,-91.5\"/>\n<text text-anchor=\"middle\" x=\"72.5\" y=\"-69.8\" font-family=\"Times New Roman,serif\" font-size=\"14.00\">data 2.0000</text>\n<polyline fill=\"none\" stroke=\"black\" points=\"113,-55.5 113,-91.5\"/>\n<text text-anchor=\"middle\" x=\"156.5\" y=\"-69.8\" font-family=\"Times New Roman,serif\" font-size=\"14.00\">grad &#45;1.5000</text>\n</g>\n<!-- 1808026462144* -->\n<g id=\"node14\" class=\"node\">\n<title>1808026462144*</title>\n<ellipse fill=\"none\" stroke=\"black\" cx=\"265\" cy=\"-73.5\" rx=\"27\" ry=\"18\"/>\n<text text-anchor=\"middle\" x=\"265\" y=\"-69.8\" font-family=\"Times New Roman,serif\" font-size=\"14.00\">*</text>\n</g>\n<!-- 1808027618176&#45;&gt;1808026462144* -->\n<g id=\"edge11\" class=\"edge\">\n<title>1808027618176&#45;&gt;1808026462144*</title>\n<path fill=\"none\" stroke=\"black\" d=\"M199.97,-73.5C209.29,-73.5 218.28,-73.5 226.45,-73.5\"/>\n<polygon fill=\"black\" stroke=\"black\" points=\"226.23,-77 236.23,-73.5 226.23,-70 226.23,-77\"/>\n</g>\n<!-- 1808027618224 -->\n<g id=\"node12\" class=\"node\">\n<title>1808027618224</title>\n<polygon fill=\"none\" stroke=\"black\" points=\"2.5,-110.5 2.5,-146.5 199.5,-146.5 199.5,-110.5 2.5,-110.5\"/>\n<text text-anchor=\"middle\" x=\"19\" y=\"-124.8\" font-family=\"Times New Roman,serif\" font-size=\"14.00\">w2</text>\n<polyline fill=\"none\" stroke=\"black\" points=\"35.5,-110.5 35.5,-146.5\"/>\n<text text-anchor=\"middle\" x=\"76\" y=\"-124.8\" font-family=\"Times New Roman,serif\" font-size=\"14.00\">data 1.0000</text>\n<polyline fill=\"none\" stroke=\"black\" points=\"116.5,-110.5 116.5,-146.5\"/>\n<text text-anchor=\"middle\" x=\"158\" y=\"-124.8\" font-family=\"Times New Roman,serif\" font-size=\"14.00\">grad 0.0000</text>\n</g>\n<!-- 1808027618224&#45;&gt;1806398304112* -->\n<g id=\"edge8\" class=\"edge\">\n<title>1808027618224&#45;&gt;1806398304112*</title>\n<path fill=\"none\" stroke=\"black\" d=\"M199.04,-128.5C208.66,-128.5 217.96,-128.5 226.38,-128.5\"/>\n<polygon fill=\"black\" stroke=\"black\" points=\"226.12,-132 236.12,-128.5 226.12,-125 226.12,-132\"/>\n</g>\n<!-- 1808026462144 -->\n<g id=\"node13\" class=\"node\">\n<title>1808026462144</title>\n<polygon fill=\"none\" stroke=\"black\" points=\"328,-55.5 328,-91.5 558,-91.5 558,-55.5 328,-55.5\"/>\n<text text-anchor=\"middle\" x=\"358.5\" y=\"-69.8\" font-family=\"Times New Roman,serif\" font-size=\"14.00\">x1 * w1</text>\n<polyline fill=\"none\" stroke=\"black\" points=\"389,-55.5 389,-91.5\"/>\n<text text-anchor=\"middle\" x=\"432\" y=\"-69.8\" font-family=\"Times New Roman,serif\" font-size=\"14.00\">data &#45;6.0000</text>\n<polyline fill=\"none\" stroke=\"black\" points=\"475,-55.5 475,-91.5\"/>\n<text text-anchor=\"middle\" x=\"516.5\" y=\"-69.8\" font-family=\"Times New Roman,serif\" font-size=\"14.00\">grad 0.5000</text>\n</g>\n<!-- 1808026462144&#45;&gt;1806398302720+ -->\n<g id=\"edge12\" class=\"edge\">\n<title>1808026462144&#45;&gt;1806398302720+</title>\n<path fill=\"none\" stroke=\"black\" d=\"M557.95,-90.98C566.8,-92.34 575.26,-93.64 582.93,-94.81\"/>\n<polygon fill=\"black\" stroke=\"black\" points=\"582.38,-98.27 592.79,-96.33 583.44,-91.35 582.38,-98.27\"/>\n</g>\n<!-- 1808026462144*&#45;&gt;1808026462144 -->\n<g id=\"edge5\" class=\"edge\">\n<title>1808026462144*&#45;&gt;1808026462144</title>\n<path fill=\"none\" stroke=\"black\" d=\"M292.35,-73.5C299.58,-73.5 307.92,-73.5 316.89,-73.5\"/>\n<polygon fill=\"black\" stroke=\"black\" points=\"316.6,-77 326.6,-73.5 316.6,-70 316.6,-77\"/>\n</g>\n<!-- 1808027616736 -->\n<g id=\"node15\" class=\"node\">\n<title>1808027616736</title>\n<polygon fill=\"none\" stroke=\"black\" points=\"0,-0.5 0,-36.5 202,-36.5 202,-0.5 0,-0.5\"/>\n<text text-anchor=\"middle\" x=\"16.5\" y=\"-14.8\" font-family=\"Times New Roman,serif\" font-size=\"14.00\">w1</text>\n<polyline fill=\"none\" stroke=\"black\" points=\"33,-0.5 33,-36.5\"/>\n<text text-anchor=\"middle\" x=\"76\" y=\"-14.8\" font-family=\"Times New Roman,serif\" font-size=\"14.00\">data &#45;3.0000</text>\n<polyline fill=\"none\" stroke=\"black\" points=\"119,-0.5 119,-36.5\"/>\n<text text-anchor=\"middle\" x=\"160.5\" y=\"-14.8\" font-family=\"Times New Roman,serif\" font-size=\"14.00\">grad 1.0000</text>\n</g>\n<!-- 1808027616736&#45;&gt;1808026462144* -->\n<g id=\"edge7\" class=\"edge\">\n<title>1808027616736&#45;&gt;1808026462144*</title>\n<path fill=\"none\" stroke=\"black\" d=\"M170.98,-36.47C181.45,-39.58 192.06,-42.96 202,-46.5 211.97,-50.05 222.6,-54.44 232.19,-58.65\"/>\n<polygon fill=\"black\" stroke=\"black\" points=\"230.55,-61.75 241.11,-62.64 233.41,-55.36 230.55,-61.75\"/>\n</g>\n</g>\n</svg>\n",
      "text/plain": [
       "<graphviz.graphs.Digraph at 0x1a4f6d80760>"
      ]
     },
     "execution_count": 13,
     "metadata": {},
     "output_type": "execute_result"
    }
   ],
   "source": [
    "draw_dot(output)"
   ]
  },
  {
   "cell_type": "code",
   "execution_count": 14,
   "metadata": {},
   "outputs": [],
   "source": [
    "# use a topological sort on the expression to call backprop automatically, starting with the output\n",
    "\n",
    "# clear the manual calulcated gradients first\n",
    "x1 = Value(2.0, label='x1')\n",
    "x2 = Value(0.0, label='x2')\n",
    "w1 = Value(-3.0, label='w1')\n",
    "w2 = Value(1.0, label='w2')\n",
    "b = Value(6.8813735870195432, label='b')\n",
    "x1w1 = x1 * w1\n",
    "x1w1.label = 'x1 * w1'\n",
    "x2w2 = x2 * w2\n",
    "x2w2.label = 'x2 * w2'\n",
    "x1w1x2w2 = x1w1 + x2w2\n",
    "x1w1x2w2.label = 'x1 * w1 + x2 * w2'\n",
    "neuron = x1w1x2w2 + b\n",
    "neuron.label = 'neuron'\n",
    "output = neuron.tanh()\n",
    "output.label = 'output'\n",
    "\n",
    "output.backward()"
   ]
  },
  {
   "cell_type": "code",
   "execution_count": 15,
   "metadata": {},
   "outputs": [
    {
     "data": {
      "image/svg+xml": "<?xml version=\"1.0\" encoding=\"UTF-8\" standalone=\"no\"?>\n<!DOCTYPE svg PUBLIC \"-//W3C//DTD SVG 1.1//EN\"\n \"http://www.w3.org/Graphics/SVG/1.1/DTD/svg11.dtd\">\n<!-- Generated by graphviz version 7.1.0 (20230121.1956)\n -->\n<!-- Pages: 1 -->\n<svg width=\"1670pt\" height=\"210pt\"\n viewBox=\"0.00 0.00 1670.00 210.00\" xmlns=\"http://www.w3.org/2000/svg\" xmlns:xlink=\"http://www.w3.org/1999/xlink\">\n<g id=\"graph0\" class=\"graph\" transform=\"scale(1 1) rotate(0) translate(4 206)\">\n<polygon fill=\"white\" stroke=\"none\" points=\"-4,4 -4,-206 1666,-206 1666,4 -4,4\"/>\n<!-- 1808027616304 -->\n<g id=\"node1\" class=\"node\">\n<title>1808027616304</title>\n<polygon fill=\"none\" stroke=\"black\" points=\"1445,-54.5 1445,-90.5 1662,-90.5 1662,-54.5 1445,-54.5\"/>\n<text text-anchor=\"middle\" x=\"1471.5\" y=\"-68.8\" font-family=\"Times New Roman,serif\" font-size=\"14.00\">output</text>\n<polyline fill=\"none\" stroke=\"black\" points=\"1498,-54.5 1498,-90.5\"/>\n<text text-anchor=\"middle\" x=\"1538.5\" y=\"-68.8\" font-family=\"Times New Roman,serif\" font-size=\"14.00\">data 0.7071</text>\n<polyline fill=\"none\" stroke=\"black\" points=\"1579,-54.5 1579,-90.5\"/>\n<text text-anchor=\"middle\" x=\"1620.5\" y=\"-68.8\" font-family=\"Times New Roman,serif\" font-size=\"14.00\">grad 1.0000</text>\n</g>\n<!-- 1808027616304tanh -->\n<g id=\"node2\" class=\"node\">\n<title>1808027616304tanh</title>\n<ellipse fill=\"none\" stroke=\"black\" cx=\"1382\" cy=\"-72.5\" rx=\"27\" ry=\"18\"/>\n<text text-anchor=\"middle\" x=\"1382\" y=\"-68.8\" font-family=\"Times New Roman,serif\" font-size=\"14.00\">tanh</text>\n</g>\n<!-- 1808027616304tanh&#45;&gt;1808027616304 -->\n<g id=\"edge1\" class=\"edge\">\n<title>1808027616304tanh&#45;&gt;1808027616304</title>\n<path fill=\"none\" stroke=\"black\" d=\"M1409.48,-72.5C1416.62,-72.5 1424.82,-72.5 1433.62,-72.5\"/>\n<polygon fill=\"black\" stroke=\"black\" points=\"1433.52,-76 1443.52,-72.5 1433.52,-69 1433.52,-76\"/>\n</g>\n<!-- 1806398301280 -->\n<g id=\"node3\" class=\"node\">\n<title>1806398301280</title>\n<polygon fill=\"none\" stroke=\"black\" points=\"684,-82.5 684,-118.5 974,-118.5 974,-82.5 684,-82.5\"/>\n<text text-anchor=\"middle\" x=\"744.5\" y=\"-96.8\" font-family=\"Times New Roman,serif\" font-size=\"14.00\">x1 * w1 + x2 * w2</text>\n<polyline fill=\"none\" stroke=\"black\" points=\"805,-82.5 805,-118.5\"/>\n<text text-anchor=\"middle\" x=\"848\" y=\"-96.8\" font-family=\"Times New Roman,serif\" font-size=\"14.00\">data &#45;6.0000</text>\n<polyline fill=\"none\" stroke=\"black\" points=\"891,-82.5 891,-118.5\"/>\n<text text-anchor=\"middle\" x=\"932.5\" y=\"-96.8\" font-family=\"Times New Roman,serif\" font-size=\"14.00\">grad 0.5000</text>\n</g>\n<!-- 1806398037824+ -->\n<g id=\"node12\" class=\"node\">\n<title>1806398037824+</title>\n<ellipse fill=\"none\" stroke=\"black\" cx=\"1037\" cy=\"-72.5\" rx=\"27\" ry=\"18\"/>\n<text text-anchor=\"middle\" x=\"1037\" y=\"-68.8\" font-family=\"Times New Roman,serif\" font-size=\"14.00\">+</text>\n</g>\n<!-- 1806398301280&#45;&gt;1806398037824+ -->\n<g id=\"edge7\" class=\"edge\">\n<title>1806398301280&#45;&gt;1806398037824+</title>\n<path fill=\"none\" stroke=\"black\" d=\"M962.21,-82.53C975.56,-80.72 988.2,-79 999.12,-77.51\"/>\n<polygon fill=\"black\" stroke=\"black\" points=\"999.3,-81.02 1008.74,-76.2 998.36,-74.08 999.3,-81.02\"/>\n</g>\n<!-- 1806398301280+ -->\n<g id=\"node4\" class=\"node\">\n<title>1806398301280+</title>\n<ellipse fill=\"none\" stroke=\"black\" cx=\"621\" cy=\"-100.5\" rx=\"27\" ry=\"18\"/>\n<text text-anchor=\"middle\" x=\"621\" y=\"-96.8\" font-family=\"Times New Roman,serif\" font-size=\"14.00\">+</text>\n</g>\n<!-- 1806398301280+&#45;&gt;1806398301280 -->\n<g id=\"edge2\" class=\"edge\">\n<title>1806398301280+&#45;&gt;1806398301280</title>\n<path fill=\"none\" stroke=\"black\" d=\"M648.09,-100.5C655.33,-100.5 663.74,-100.5 672.89,-100.5\"/>\n<polygon fill=\"black\" stroke=\"black\" points=\"672.89,-104 682.89,-100.5 672.89,-97 672.89,-104\"/>\n</g>\n<!-- 1806398303392 -->\n<g id=\"node5\" class=\"node\">\n<title>1806398303392</title>\n<polygon fill=\"none\" stroke=\"black\" points=\"328,-110.5 328,-146.5 558,-146.5 558,-110.5 328,-110.5\"/>\n<text text-anchor=\"middle\" x=\"358.5\" y=\"-124.8\" font-family=\"Times New Roman,serif\" font-size=\"14.00\">x1 * w1</text>\n<polyline fill=\"none\" stroke=\"black\" points=\"389,-110.5 389,-146.5\"/>\n<text text-anchor=\"middle\" x=\"432\" y=\"-124.8\" font-family=\"Times New Roman,serif\" font-size=\"14.00\">data &#45;6.0000</text>\n<polyline fill=\"none\" stroke=\"black\" points=\"475,-110.5 475,-146.5\"/>\n<text text-anchor=\"middle\" x=\"516.5\" y=\"-124.8\" font-family=\"Times New Roman,serif\" font-size=\"14.00\">grad 0.5000</text>\n</g>\n<!-- 1806398303392&#45;&gt;1806398301280+ -->\n<g id=\"edge12\" class=\"edge\">\n<title>1806398303392&#45;&gt;1806398301280+</title>\n<path fill=\"none\" stroke=\"black\" d=\"M556.96,-110.53C566.31,-109.04 575.26,-107.62 583.32,-106.34\"/>\n<polygon fill=\"black\" stroke=\"black\" points=\"583.62,-109.83 592.95,-104.8 582.52,-102.92 583.62,-109.83\"/>\n</g>\n<!-- 1806398303392* -->\n<g id=\"node6\" class=\"node\">\n<title>1806398303392*</title>\n<ellipse fill=\"none\" stroke=\"black\" cx=\"265\" cy=\"-128.5\" rx=\"27\" ry=\"18\"/>\n<text text-anchor=\"middle\" x=\"265\" y=\"-124.8\" font-family=\"Times New Roman,serif\" font-size=\"14.00\">*</text>\n</g>\n<!-- 1806398303392*&#45;&gt;1806398303392 -->\n<g id=\"edge3\" class=\"edge\">\n<title>1806398303392*&#45;&gt;1806398303392</title>\n<path fill=\"none\" stroke=\"black\" d=\"M292.35,-128.5C299.58,-128.5 307.92,-128.5 316.89,-128.5\"/>\n<polygon fill=\"black\" stroke=\"black\" points=\"316.6,-132 326.6,-128.5 316.6,-125 316.6,-132\"/>\n</g>\n<!-- 1806398300848 -->\n<g id=\"node7\" class=\"node\">\n<title>1806398300848</title>\n<polygon fill=\"none\" stroke=\"black\" points=\"4,-55.5 4,-91.5 198,-91.5 198,-55.5 4,-55.5\"/>\n<text text-anchor=\"middle\" x=\"19\" y=\"-69.8\" font-family=\"Times New Roman,serif\" font-size=\"14.00\">x2</text>\n<polyline fill=\"none\" stroke=\"black\" points=\"34,-55.5 34,-91.5\"/>\n<text text-anchor=\"middle\" x=\"74.5\" y=\"-69.8\" font-family=\"Times New Roman,serif\" font-size=\"14.00\">data 0.0000</text>\n<polyline fill=\"none\" stroke=\"black\" points=\"115,-55.5 115,-91.5\"/>\n<text text-anchor=\"middle\" x=\"156.5\" y=\"-69.8\" font-family=\"Times New Roman,serif\" font-size=\"14.00\">grad 0.5000</text>\n</g>\n<!-- 1806398303488* -->\n<g id=\"node9\" class=\"node\">\n<title>1806398303488*</title>\n<ellipse fill=\"none\" stroke=\"black\" cx=\"265\" cy=\"-73.5\" rx=\"27\" ry=\"18\"/>\n<text text-anchor=\"middle\" x=\"265\" y=\"-69.8\" font-family=\"Times New Roman,serif\" font-size=\"14.00\">*</text>\n</g>\n<!-- 1806398300848&#45;&gt;1806398303488* -->\n<g id=\"edge13\" class=\"edge\">\n<title>1806398300848&#45;&gt;1806398303488*</title>\n<path fill=\"none\" stroke=\"black\" d=\"M197.64,-73.5C207.72,-73.5 217.49,-73.5 226.29,-73.5\"/>\n<polygon fill=\"black\" stroke=\"black\" points=\"226.11,-77 236.11,-73.5 226.11,-70 226.11,-77\"/>\n</g>\n<!-- 1806398303488 -->\n<g id=\"node8\" class=\"node\">\n<title>1806398303488</title>\n<polygon fill=\"none\" stroke=\"black\" points=\"330.5,-55.5 330.5,-91.5 555.5,-91.5 555.5,-55.5 330.5,-55.5\"/>\n<text text-anchor=\"middle\" x=\"361\" y=\"-69.8\" font-family=\"Times New Roman,serif\" font-size=\"14.00\">x2 * w2</text>\n<polyline fill=\"none\" stroke=\"black\" points=\"391.5,-55.5 391.5,-91.5\"/>\n<text text-anchor=\"middle\" x=\"432\" y=\"-69.8\" font-family=\"Times New Roman,serif\" font-size=\"14.00\">data 0.0000</text>\n<polyline fill=\"none\" stroke=\"black\" points=\"472.5,-55.5 472.5,-91.5\"/>\n<text text-anchor=\"middle\" x=\"514\" y=\"-69.8\" font-family=\"Times New Roman,serif\" font-size=\"14.00\">grad 0.5000</text>\n</g>\n<!-- 1806398303488&#45;&gt;1806398301280+ -->\n<g id=\"edge11\" class=\"edge\">\n<title>1806398303488&#45;&gt;1806398301280+</title>\n<path fill=\"none\" stroke=\"black\" d=\"M555.46,-90.6C565.29,-92.11 574.7,-93.55 583.15,-94.85\"/>\n<polygon fill=\"black\" stroke=\"black\" points=\"582.48,-98.28 592.89,-96.34 583.54,-91.37 582.48,-98.28\"/>\n</g>\n<!-- 1806398303488*&#45;&gt;1806398303488 -->\n<g id=\"edge4\" class=\"edge\">\n<title>1806398303488*&#45;&gt;1806398303488</title>\n<path fill=\"none\" stroke=\"black\" d=\"M292.35,-73.5C300.22,-73.5 309.42,-73.5 319.31,-73.5\"/>\n<polygon fill=\"black\" stroke=\"black\" points=\"319.23,-77 329.23,-73.5 319.23,-70 319.23,-77\"/>\n</g>\n<!-- 1806398303536 -->\n<g id=\"node10\" class=\"node\">\n<title>1806398303536</title>\n<polygon fill=\"none\" stroke=\"black\" points=\"735,-27.5 735,-63.5 923,-63.5 923,-27.5 735,-27.5\"/>\n<text text-anchor=\"middle\" x=\"747\" y=\"-41.8\" font-family=\"Times New Roman,serif\" font-size=\"14.00\">b</text>\n<polyline fill=\"none\" stroke=\"black\" points=\"759,-27.5 759,-63.5\"/>\n<text text-anchor=\"middle\" x=\"799.5\" y=\"-41.8\" font-family=\"Times New Roman,serif\" font-size=\"14.00\">data 6.8814</text>\n<polyline fill=\"none\" stroke=\"black\" points=\"840,-27.5 840,-63.5\"/>\n<text text-anchor=\"middle\" x=\"881.5\" y=\"-41.8\" font-family=\"Times New Roman,serif\" font-size=\"14.00\">grad 0.5000</text>\n</g>\n<!-- 1806398303536&#45;&gt;1806398037824+ -->\n<g id=\"edge6\" class=\"edge\">\n<title>1806398303536&#45;&gt;1806398037824+</title>\n<path fill=\"none\" stroke=\"black\" d=\"M922.76,-57.66C949.79,-61.2 977.77,-64.87 999.16,-67.67\"/>\n<polygon fill=\"black\" stroke=\"black\" points=\"998.44,-71.11 1008.81,-68.94 999.35,-64.17 998.44,-71.11\"/>\n</g>\n<!-- 1806398037824 -->\n<g id=\"node11\" class=\"node\">\n<title>1806398037824</title>\n<polygon fill=\"none\" stroke=\"black\" points=\"1100,-54.5 1100,-90.5 1319,-90.5 1319,-54.5 1100,-54.5\"/>\n<text text-anchor=\"middle\" x=\"1127.5\" y=\"-68.8\" font-family=\"Times New Roman,serif\" font-size=\"14.00\">neuron</text>\n<polyline fill=\"none\" stroke=\"black\" points=\"1155,-54.5 1155,-90.5\"/>\n<text text-anchor=\"middle\" x=\"1195.5\" y=\"-68.8\" font-family=\"Times New Roman,serif\" font-size=\"14.00\">data 0.8814</text>\n<polyline fill=\"none\" stroke=\"black\" points=\"1236,-54.5 1236,-90.5\"/>\n<text text-anchor=\"middle\" x=\"1277.5\" y=\"-68.8\" font-family=\"Times New Roman,serif\" font-size=\"14.00\">grad 0.5000</text>\n</g>\n<!-- 1806398037824&#45;&gt;1808027616304tanh -->\n<g id=\"edge14\" class=\"edge\">\n<title>1806398037824&#45;&gt;1808027616304tanh</title>\n<path fill=\"none\" stroke=\"black\" d=\"M1318.96,-72.5C1327.48,-72.5 1335.66,-72.5 1343.13,-72.5\"/>\n<polygon fill=\"black\" stroke=\"black\" points=\"1343.09,-76 1353.09,-72.5 1343.09,-69 1343.09,-76\"/>\n</g>\n<!-- 1806398037824+&#45;&gt;1806398037824 -->\n<g id=\"edge5\" class=\"edge\">\n<title>1806398037824+&#45;&gt;1806398037824</title>\n<path fill=\"none\" stroke=\"black\" d=\"M1064.27,-72.5C1071.43,-72.5 1079.67,-72.5 1088.52,-72.5\"/>\n<polygon fill=\"black\" stroke=\"black\" points=\"1088.51,-76 1098.51,-72.5 1088.51,-69 1088.51,-76\"/>\n</g>\n<!-- 1806398303104 -->\n<g id=\"node13\" class=\"node\">\n<title>1806398303104</title>\n<polygon fill=\"none\" stroke=\"black\" points=\"2,-165.5 2,-201.5 200,-201.5 200,-165.5 2,-165.5\"/>\n<text text-anchor=\"middle\" x=\"17\" y=\"-179.8\" font-family=\"Times New Roman,serif\" font-size=\"14.00\">x1</text>\n<polyline fill=\"none\" stroke=\"black\" points=\"32,-165.5 32,-201.5\"/>\n<text text-anchor=\"middle\" x=\"72.5\" y=\"-179.8\" font-family=\"Times New Roman,serif\" font-size=\"14.00\">data 2.0000</text>\n<polyline fill=\"none\" stroke=\"black\" points=\"113,-165.5 113,-201.5\"/>\n<text text-anchor=\"middle\" x=\"156.5\" y=\"-179.8\" font-family=\"Times New Roman,serif\" font-size=\"14.00\">grad &#45;1.5000</text>\n</g>\n<!-- 1806398303104&#45;&gt;1806398303392* -->\n<g id=\"edge9\" class=\"edge\">\n<title>1806398303104&#45;&gt;1806398303392*</title>\n<path fill=\"none\" stroke=\"black\" d=\"M173.99,-165.56C183.48,-162.75 193.03,-159.71 202,-156.5 212.1,-152.88 222.83,-148.31 232.49,-143.91\"/>\n<polygon fill=\"black\" stroke=\"black\" points=\"233.88,-147.12 241.46,-139.72 230.92,-140.78 233.88,-147.12\"/>\n</g>\n<!-- 1806398303632 -->\n<g id=\"node14\" class=\"node\">\n<title>1806398303632</title>\n<polygon fill=\"none\" stroke=\"black\" points=\"0,-110.5 0,-146.5 202,-146.5 202,-110.5 0,-110.5\"/>\n<text text-anchor=\"middle\" x=\"16.5\" y=\"-124.8\" font-family=\"Times New Roman,serif\" font-size=\"14.00\">w1</text>\n<polyline fill=\"none\" stroke=\"black\" points=\"33,-110.5 33,-146.5\"/>\n<text text-anchor=\"middle\" x=\"76\" y=\"-124.8\" font-family=\"Times New Roman,serif\" font-size=\"14.00\">data &#45;3.0000</text>\n<polyline fill=\"none\" stroke=\"black\" points=\"119,-110.5 119,-146.5\"/>\n<text text-anchor=\"middle\" x=\"160.5\" y=\"-124.8\" font-family=\"Times New Roman,serif\" font-size=\"14.00\">grad 1.0000</text>\n</g>\n<!-- 1806398303632&#45;&gt;1806398303392* -->\n<g id=\"edge10\" class=\"edge\">\n<title>1806398303632&#45;&gt;1806398303392*</title>\n<path fill=\"none\" stroke=\"black\" d=\"M201.83,-128.5C210.46,-128.5 218.79,-128.5 226.4,-128.5\"/>\n<polygon fill=\"black\" stroke=\"black\" points=\"226.18,-132 236.18,-128.5 226.18,-125 226.18,-132\"/>\n</g>\n<!-- 1806398303152 -->\n<g id=\"node15\" class=\"node\">\n<title>1806398303152</title>\n<polygon fill=\"none\" stroke=\"black\" points=\"2.5,-0.5 2.5,-36.5 199.5,-36.5 199.5,-0.5 2.5,-0.5\"/>\n<text text-anchor=\"middle\" x=\"19\" y=\"-14.8\" font-family=\"Times New Roman,serif\" font-size=\"14.00\">w2</text>\n<polyline fill=\"none\" stroke=\"black\" points=\"35.5,-0.5 35.5,-36.5\"/>\n<text text-anchor=\"middle\" x=\"76\" y=\"-14.8\" font-family=\"Times New Roman,serif\" font-size=\"14.00\">data 1.0000</text>\n<polyline fill=\"none\" stroke=\"black\" points=\"116.5,-0.5 116.5,-36.5\"/>\n<text text-anchor=\"middle\" x=\"158\" y=\"-14.8\" font-family=\"Times New Roman,serif\" font-size=\"14.00\">grad 0.0000</text>\n</g>\n<!-- 1806398303152&#45;&gt;1806398303488* -->\n<g id=\"edge8\" class=\"edge\">\n<title>1806398303152&#45;&gt;1806398303488*</title>\n<path fill=\"none\" stroke=\"black\" d=\"M173.99,-36.44C183.48,-39.25 193.03,-42.29 202,-45.5 212.1,-49.12 222.83,-53.69 232.49,-58.09\"/>\n<polygon fill=\"black\" stroke=\"black\" points=\"230.92,-61.22 241.46,-62.28 233.88,-54.88 230.92,-61.22\"/>\n</g>\n</g>\n</svg>\n",
      "text/plain": [
       "<graphviz.graphs.Digraph at 0x1a4f6d80a00>"
      ]
     },
     "execution_count": 15,
     "metadata": {},
     "output_type": "execute_result"
    }
   ],
   "source": [
    "draw_dot(output)"
   ]
  },
  {
   "attachments": {},
   "cell_type": "markdown",
   "metadata": {},
   "source": [
    "# Compare with Pytorch"
   ]
  },
  {
   "cell_type": "code",
   "execution_count": 16,
   "metadata": {},
   "outputs": [
    {
     "name": "stdout",
     "output_type": "stream",
     "text": [
      "0.7071066904050358\n",
      "x1 -1.5000003851533106\n",
      "w1 1.0000002567688737\n",
      "x2 0.5000001283844369\n",
      "w2 0.0\n"
     ]
    }
   ],
   "source": [
    "# same neuron implemented in pytorch, i.e. output = tanh(x1w1 + x2w2 + bias)\n",
    "x1 = torch.Tensor([2.0]).double()  # cast to float64 precision\n",
    "x2 = torch.Tensor([0.0]).double()\n",
    "w1 = torch.Tensor([-3.0]).double()\n",
    "w2 = torch.Tensor([1.0]).double()\n",
    "b = torch.Tensor([6.8813735870195432]).double()\n",
    "\n",
    "# tell pytorch to compute gradients on these tensors\n",
    "x1.requires_grad = True\n",
    "x2.requires_grad = True\n",
    "w1.requires_grad = True\n",
    "w2.requires_grad = True\n",
    "b.requires_grad = True\n",
    "\n",
    "# neuron and output\n",
    "neuron = x1 * w1 + x2 * w2 + b\n",
    "output = torch.tanh(neuron)\n",
    "\n",
    "# backprop to calculate gradients\n",
    "output.backward()\n",
    "\n",
    "# print out pytorch calculated values (to compare with our implementation)\n",
    "print(output.data.item())\n",
    "print('x1', x1.grad.item())\n",
    "print('w1', w1.grad.item())\n",
    "print('x2', x2.grad.item())\n",
    "print('w2', w2.grad.item())\n",
    "\n"
   ]
  },
  {
   "attachments": {},
   "cell_type": "markdown",
   "metadata": {},
   "source": [
    "# Neural network"
   ]
  },
  {
   "cell_type": "code",
   "execution_count": 17,
   "metadata": {},
   "outputs": [],
   "source": [
    "# define the class for a neuron\n",
    "class Neuron:\n",
    "\n",
    "    def __init__(self, num_input):\n",
    "        # each input has a weight, init to random\n",
    "        self.w = [Value(random.uniform(-1, 1)) for _ in range(num_input)]\n",
    "        self.b = Value(random.uniform(-1, 1))\n",
    "\n",
    "    # define forward pass, i.e. w * x + b\n",
    "    def __call__(self, x):\n",
    "        raw_activation = sum((wi * xi for wi, xi in zip(self.w, x)), self.b)\n",
    "        output = raw_activation.tanh()  # use tanh activation on the raw neuron output\n",
    "        return output\n",
    "\n",
    "    # return a list of all the parameters of this neuron, i.e. all ws and b\n",
    "    def parameters(self):\n",
    "        return self.w + [self.b]"
   ]
  },
  {
   "cell_type": "code",
   "execution_count": 18,
   "metadata": {},
   "outputs": [],
   "source": [
    "# define the class for a layer of neurons\n",
    "class Layer:\n",
    "\n",
    "    def __init__(self, num_input, num_output):\n",
    "        # create the number of neurons in this layer, which = num_output of this layer\n",
    "        self.neurons = [Neuron(num_input) for _ in range(num_output)]\n",
    "\n",
    "    # forward pass on every neuron in this layer\n",
    "    def __call__(self, x):\n",
    "        outs = [n(x) for n in self.neurons]\n",
    "        return outs[0] if len(outs) == 1 else outs\n",
    "\n",
    "    # return a list of all the parameters of this layer, i.e. all ws and b of all neurons\n",
    "    def parameters(self):\n",
    "        return [param for neuron in self.neurons for param in neuron.parameters()]"
   ]
  },
  {
   "cell_type": "code",
   "execution_count": 19,
   "metadata": {},
   "outputs": [],
   "source": [
    "# define the class for MLP\n",
    "class MLP:\n",
    "\n",
    "    def __init__(self, num_input, num_outputs):\n",
    "        # add num_input to front of list, i.e. if num_input = 2, num_outputs = (3, 4), then sizes = (2, 3, 4)\n",
    "        sizes = [num_input] + num_outputs\n",
    "\n",
    "        # create each layer, by iterating the num_input, num_output in the list\n",
    "        self.layers = [Layer(sizes[i], sizes[i+1]) for i in range(len(num_outputs))]\n",
    "\n",
    "    # forward pass through the layers\n",
    "    def __call__(self, x):\n",
    "        for layer in self.layers:\n",
    "            x = layer(x)\n",
    "        return x\n",
    "\n",
    "    # return a list of all the parameters of this MLP, i.e. all ws and b of all layers and neurons\n",
    "    def parameters(self):\n",
    "        return [param for layer in self.layers for param in layer.parameters()]"
   ]
  },
  {
   "cell_type": "code",
   "execution_count": 20,
   "metadata": {},
   "outputs": [
    {
     "data": {
      "text/plain": [
       "Value(data=0.3401939004043905)"
      ]
     },
     "execution_count": 20,
     "metadata": {},
     "output_type": "execute_result"
    }
   ],
   "source": [
    "# create a MLP with 3 inputs, 2 hidden layers of 4 neurons each, and 1 output\n",
    "num_input = 3\n",
    "num_outputs = [4, 4, 1]\n",
    "model = MLP(num_input, num_outputs)\n",
    "\n",
    "# arbitrary input\n",
    "x = [2.0, 3.0, -1.0]\n",
    "model(x)"
   ]
  },
  {
   "cell_type": "code",
   "execution_count": 21,
   "metadata": {},
   "outputs": [
    {
     "data": {
      "text/plain": [
       "[Value(data=0.3401939004043905),\n",
       " Value(data=-0.15674459629975634),\n",
       " Value(data=0.46685246474029884),\n",
       " Value(data=-0.5313811588795626)]"
      ]
     },
     "execution_count": 21,
     "metadata": {},
     "output_type": "execute_result"
    }
   ],
   "source": [
    "# create arbitrary dataset with 4 samples\n",
    "xs = [\n",
    "  [2.0, 3.0, -1.0],\n",
    "  [3.0, -1.0, 0.5],\n",
    "  [0.5, 1.0, 1.0],\n",
    "  [1.0, 1.0, -1.0],\n",
    "]\n",
    "ys = [1.0, -1.0, -1.0, 1.0] # targets\n",
    "\n",
    "# before traininig\n",
    "y_pred = [model(x) for x in xs]\n",
    "y_pred"
   ]
  },
  {
   "cell_type": "code",
   "execution_count": 22,
   "metadata": {},
   "outputs": [
    {
     "name": "stdout",
     "output_type": "stream",
     "text": [
      "0 5.643208172019234\n",
      "1 4.164950934198049\n",
      "2 3.267215685523886\n",
      "3 2.6650924957989544\n",
      "4 2.2701530106558216\n",
      "5 1.9602158467086672\n",
      "6 1.6584182460230168\n",
      "7 1.337174716173617\n",
      "8 1.007192607506447\n",
      "9 0.7126496724042766\n",
      "10 0.494463213871448\n",
      "11 0.35279130727264896\n",
      "12 0.26373648825221513\n",
      "13 0.2061094436279462\n",
      "14 0.16703067370462227\n",
      "15 0.13929312783893336\n",
      "16 0.11881506041748141\n",
      "17 0.10319183662870601\n",
      "18 0.09094313806437493\n",
      "19 0.08111916738055264\n"
     ]
    }
   ],
   "source": [
    "# training loop\n",
    "epochs = 20\n",
    "learning_rate = 0.05\n",
    "\n",
    "for epoch in range(epochs):\n",
    "    # forward pass\n",
    "    y_preds  = [model(x) for x in xs]\n",
    "\n",
    "    # calculate MSE loss\n",
    "    loss = sum((y_pred - y_true)**2 for y_true, y_pred in zip(ys, y_preds))\n",
    "\n",
    "    # zero out grads before backward pass, so grads don't accumulate between epochs\n",
    "    for p in model.parameters():\n",
    "        p.grad = 0.0\n",
    "\n",
    "    # backward pass to calculate gradients for all parameters\n",
    "    loss.backward()\n",
    "\n",
    "    # gradient descent on all parameters\n",
    "    for p in model.parameters():\n",
    "        p.data += -learning_rate * p.grad\n",
    "\n",
    "    print(epoch, loss.data)"
   ]
  },
  {
   "cell_type": "code",
   "execution_count": 23,
   "metadata": {},
   "outputs": [
    {
     "data": {
      "text/plain": [
       "[Value(data=0.9767305865355994),\n",
       " Value(data=-0.8026082283616452),\n",
       " Value(data=-0.8609513359259723),\n",
       " Value(data=0.8507362760538408)]"
      ]
     },
     "execution_count": 23,
     "metadata": {},
     "output_type": "execute_result"
    }
   ],
   "source": [
    "y_preds"
   ]
  },
  {
   "cell_type": "code",
   "execution_count": null,
   "metadata": {},
   "outputs": [],
   "source": []
  }
 ],
 "metadata": {
  "kernelspec": {
   "display_name": "pytorch",
   "language": "python",
   "name": "python3"
  },
  "language_info": {
   "codemirror_mode": {
    "name": "ipython",
    "version": 3
   },
   "file_extension": ".py",
   "mimetype": "text/x-python",
   "name": "python",
   "nbconvert_exporter": "python",
   "pygments_lexer": "ipython3",
   "version": "3.9.13"
  },
  "orig_nbformat": 4,
  "vscode": {
   "interpreter": {
    "hash": "492015c89e27cc3e5a8c578383431dd8443ebbc21376cec0740bf401bea83bd7"
   }
  }
 },
 "nbformat": 4,
 "nbformat_minor": 2
}
