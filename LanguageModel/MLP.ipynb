{
 "cells": [
  {
   "cell_type": "code",
   "execution_count": 1,
   "metadata": {},
   "outputs": [],
   "source": [
    "import torch\n",
    "import torch.nn.functional as F\n",
    "\n",
    "import matplotlib.pyplot as plt\n",
    "import random"
   ]
  },
  {
   "attachments": {},
   "cell_type": "markdown",
   "metadata": {},
   "source": [
    "# Data"
   ]
  },
  {
   "cell_type": "code",
   "execution_count": 2,
   "metadata": {},
   "outputs": [],
   "source": [
    "# read data and split by each line\n",
    "words = open('names.txt', 'r').read().splitlines()"
   ]
  },
  {
   "cell_type": "code",
   "execution_count": 3,
   "metadata": {},
   "outputs": [
    {
     "data": {
      "text/plain": [
       "32033"
      ]
     },
     "execution_count": 3,
     "metadata": {},
     "output_type": "execute_result"
    }
   ],
   "source": [
    "len(words)"
   ]
  },
  {
   "cell_type": "code",
   "execution_count": 4,
   "metadata": {},
   "outputs": [
    {
     "data": {
      "text/plain": [
       "['emma',\n",
       " 'olivia',\n",
       " 'ava',\n",
       " 'isabella',\n",
       " 'sophia',\n",
       " 'charlotte',\n",
       " 'mia',\n",
       " 'amelia',\n",
       " 'harper',\n",
       " 'evelyn']"
      ]
     },
     "execution_count": 4,
     "metadata": {},
     "output_type": "execute_result"
    }
   ],
   "source": [
    "words[:10]"
   ]
  },
  {
   "attachments": {},
   "cell_type": "markdown",
   "metadata": {},
   "source": [
    "#### Vocab of char to int mapping and int to char"
   ]
  },
  {
   "cell_type": "code",
   "execution_count": 5,
   "metadata": {},
   "outputs": [
    {
     "name": "stdout",
     "output_type": "stream",
     "text": [
      "{1: 'a', 2: 'b', 3: 'c', 4: 'd', 5: 'e', 6: 'f', 7: 'g', 8: 'h', 9: 'i', 10: 'j', 11: 'k', 12: 'l', 13: 'm', 14: 'n', 15: 'o', 16: 'p', 17: 'q', 18: 'r', 19: 's', 20: 't', 21: 'u', 22: 'v', 23: 'w', 24: 'x', 25: 'y', 26: 'z', 0: '.'}\n"
     ]
    }
   ],
   "source": [
    "# get all the unique chars in the dataset\n",
    "chars = sorted(list(set(''.join(words))))  # set removes duplicate chars and keep unique\n",
    "# map each char to a int\n",
    "ctoi = {c: i+1 for i, c in enumerate(chars)}\n",
    "# add a special char, for constructing bigrams of the first and last character in a word\n",
    "ctoi['.'] = 0\n",
    "\n",
    "# int to char\n",
    "itoc = {i: c for c, i in ctoi.items()}\n",
    "\n",
    "print(itoc)"
   ]
  },
  {
   "cell_type": "code",
   "execution_count": 6,
   "metadata": {},
   "outputs": [
    {
     "name": "stdout",
     "output_type": "stream",
     "text": [
      "torch.Size([182625, 3]) torch.Size([182625])\n",
      "torch.Size([22655, 3]) torch.Size([22655])\n",
      "torch.Size([22866, 3]) torch.Size([22866])\n"
     ]
    }
   ],
   "source": [
    "# build dataset\n",
    "input_size = 3  # context length, i.e. how many input chars to take to predict the next one, 3 according to Bengio et al.\n",
    "def build_dataset(words):\n",
    "    X, Y = [], []\n",
    "\n",
    "    for word in words:\n",
    "        input = [0] * input_size  # pad the full input with '.' to predict the first char\n",
    "        \n",
    "        # iterate through the chars in the word, to add to X and Y, add the last special '.' char to predict end word\n",
    "        for char in word + '.':\n",
    "            # add the current input, i.e. the 3 chars, to X\n",
    "            X.append(input)\n",
    "\n",
    "            # add the next char as Y\n",
    "            ix = ctoi[char]\n",
    "            Y.append(ix)\n",
    "\n",
    "            # shift the input right by one char\n",
    "            input = input[1:] + [ix]\n",
    "\n",
    "    # convert to tensor\n",
    "    X = torch.tensor(X)\n",
    "    Y = torch.tensor(Y)\n",
    "    print(X.shape, Y.shape)\n",
    "\n",
    "    return X, Y\n",
    "\n",
    "random.seed(42)\n",
    "\n",
    "# shuffle the whole dataset\n",
    "random.shuffle(words)\n",
    "\n",
    "split1_idx = int(0.8 * len(words))\n",
    "split2_idx = int(0.9 * len(words))\n",
    "\n",
    "# create train, val, test set\n",
    "X_train, Y_train = build_dataset(words[:split1_idx])        # training set is for training the model parameters, i.e. weights and bias etc\n",
    "X_val, Y_val = build_dataset(words[split1_idx:split2_idx])  # validation set is for finding the hyperparameters, i.e. lr etc, and also validate no overfitting\n",
    "X_test, Y_test = build_dataset(words[split2_idx:])          # test set for evaluating the model on unseen data\n"
   ]
  },
  {
   "attachments": {},
   "cell_type": "markdown",
   "metadata": {},
   "source": [
    "# Model"
   ]
  },
  {
   "attachments": {},
   "cell_type": "markdown",
   "metadata": {},
   "source": [
    "#### Embedding"
   ]
  },
  {
   "cell_type": "code",
   "execution_count": 7,
   "metadata": {},
   "outputs": [],
   "source": [
    "generator = torch.Generator().manual_seed(42)\n",
    "num_emb = 10\n",
    "\n",
    "# embed the 27 chars into 10D embedding, note Bengio et al. is 17000 words to 30\n",
    "lookup = torch.randn((27, num_emb), generator=generator)  # the look up table from 27 chars to 10D"
   ]
  },
  {
   "attachments": {},
   "cell_type": "markdown",
   "metadata": {},
   "source": [
    "#### Hidden layer"
   ]
  },
  {
   "cell_type": "code",
   "execution_count": 8,
   "metadata": {},
   "outputs": [],
   "source": [
    "num_hidden = 200\n",
    "\n",
    "# random init weights, note no need bias at this layer because batch norm layer follows, and just use batch norm bias\n",
    "W1 = torch.randn((num_emb * input_size, num_hidden), generator=generator)"
   ]
  },
  {
   "attachments": {},
   "cell_type": "markdown",
   "metadata": {},
   "source": [
    "#### Output layer"
   ]
  },
  {
   "cell_type": "code",
   "execution_count": 9,
   "metadata": {},
   "outputs": [],
   "source": [
    "num_output = 27  # 27 chars\n",
    "\n",
    "# init weights and bias\n",
    "W2 = torch.randn((num_hidden, num_output), generator=generator)\n",
    "b2 = torch.randn(num_output, generator=generator)\n",
    "\n",
    "# batch normalization parameters, init gain to 1 and bias to 0, so that batch norm inits with unit gaussian (and gets scaled and shifted as trained)\n",
    "bn_gain = torch.ones((1, num_hidden))\n",
    "bn_bias = torch.zeros((1, num_hidden))\n",
    "\n",
    "# mean and std to calculate batch norm, for the total train set, i.e. batch = full training set, unit gaussian so mean = 0, std = 1\n",
    "bn_mean_total = torch.zeros((1, num_hidden))\n",
    "bn_std_total = torch.ones((1, num_hidden))\n",
    "\n",
    "parameters = [lookup, W1, W2, b2, bn_gain, bn_bias]\n",
    "for p in parameters:\n",
    "    p.requires_grad = True  # need to manually set grad to true, because PyTorch init these to false on leaf tensors"
   ]
  },
  {
   "attachments": {},
   "cell_type": "markdown",
   "metadata": {},
   "source": [
    "#### Train"
   ]
  },
  {
   "cell_type": "code",
   "execution_count": 10,
   "metadata": {},
   "outputs": [
    {
     "name": "stdout",
     "output_type": "stream",
     "text": [
      "      0/ 200000: 22.0277\n",
      "  10000/ 200000: 2.8827\n",
      "  20000/ 200000: 2.1919\n",
      "  30000/ 200000: 2.3755\n",
      "  40000/ 200000: 2.4962\n",
      "  50000/ 200000: 2.1934\n",
      "  60000/ 200000: 2.7461\n",
      "  70000/ 200000: 3.1319\n",
      "  80000/ 200000: 2.4625\n",
      "  90000/ 200000: 2.1207\n",
      " 100000/ 200000: 2.2976\n",
      " 110000/ 200000: 1.7111\n",
      " 120000/ 200000: 1.9515\n",
      " 130000/ 200000: 2.4266\n",
      " 140000/ 200000: 2.2742\n",
      " 150000/ 200000: 1.8444\n",
      " 160000/ 200000: 2.2548\n",
      " 170000/ 200000: 2.2890\n",
      " 180000/ 200000: 2.5596\n",
      " 190000/ 200000: 2.7489\n"
     ]
    },
    {
     "data": {
      "text/plain": [
       "tensor(2.3187, grad_fn=<NllLossBackward0>)"
      ]
     },
     "execution_count": 10,
     "metadata": {},
     "output_type": "execute_result"
    }
   ],
   "source": [
    "MAX_EPOCH = 200000\n",
    "log_epoch = 10000\n",
    "batch_size = 32\n",
    "# reasoning of minibatch:\n",
    "# it's better to run more training steps with approximate gradient (minibatch)\n",
    "# vs running fewer steps with exact gradient (full dataset)\n",
    "\n",
    "epochs = []\n",
    "losses = []\n",
    "\n",
    "for epoch in range(MAX_EPOCH):\n",
    "    # create minibatch training data for this pass\n",
    "    batch_idx = torch.randint(0, X_train.shape[0], (batch_size,))\n",
    "\n",
    "    # embed inputs\n",
    "    emb = lookup[X_train[batch_idx]]\n",
    "\n",
    "    # hidden layer neuron output, i.e. WX + b, where X is the output of embedding (reshaping embedding for input)\n",
    "    hidden_out = emb.view(-1, num_emb * input_size) @ W1\n",
    "\n",
    "    # batch normalization (across the batch samples), so that ouput is normally distributed (before activation function), since this prevents vanishing and exploding gradients\n",
    "    bn_mean_epoch = hidden_out.mean(dim=0, keepdim=True)\n",
    "    bn_std_epoch = hidden_out.std(dim=0, keepdim=True)\n",
    "    hidden_norm = bn_gain * (hidden_out - bn_mean_epoch) / bn_std_epoch + bn_bias\n",
    "\n",
    "    # calculate the running bn mean and std as the data trains\n",
    "    with torch.no_grad():\n",
    "        bn_mean_total = 0.999 * bn_mean_total + 0.001 * bn_mean_epoch\n",
    "        bn_std_total = 0.999 * bn_std_total + 0.001 * bn_std_epoch\n",
    "\n",
    "    # tanh activation\n",
    "    hidden = torch.tanh(hidden_norm)\n",
    "    # output layer neuron output logits\n",
    "    logits = hidden @ W2 + b2\n",
    "\n",
    "    # cross entropy loss, which is just softmax(logits) to get probability, then average negative log likelihood of the probability\n",
    "    loss = F.cross_entropy(logits, Y_train[batch_idx])\n",
    "\n",
    "    # reset gradients\n",
    "    for p in parameters:\n",
    "        p.grad = None\n",
    "    \n",
    "    loss.backward()  # backprop to calculate gradients\n",
    "\n",
    "    # lr decay\n",
    "    lr = 0.1 if epoch < 0.5 * MAX_EPOCH else 0.01\n",
    "\n",
    "    # update params\n",
    "    for p in parameters:\n",
    "        p.data += -lr * p.grad\n",
    "\n",
    "    # stats\n",
    "    epochs.append(epoch)\n",
    "    losses.append(loss.item())\n",
    "    if epoch % log_epoch == 0:\n",
    "        print(f'{epoch:7d}/{MAX_EPOCH:7d}: {loss.item():.4f}')\n",
    "\n",
    "loss"
   ]
  },
  {
   "cell_type": "code",
   "execution_count": 11,
   "metadata": {},
   "outputs": [
    {
     "data": {
      "text/plain": [
       "[<matplotlib.lines.Line2D at 0x1e367da2940>]"
      ]
     },
     "execution_count": 11,
     "metadata": {},
     "output_type": "execute_result"
    },
    {
     "data": {
      "image/png": "[encoded data removed]",
      "text/plain": [
       "<Figure size 640x480 with 1 Axes>"
      ]
     },
     "metadata": {},
     "output_type": "display_data"
    }
   ],
   "source": [
    "# plot the loss over epochs\n",
    "plt.plot(epochs, losses)"
   ]
  },
  {
   "cell_type": "code",
   "execution_count": 12,
   "metadata": {},
   "outputs": [
    {
     "data": {
      "text/plain": [
       "tensor(2.2089)"
      ]
     },
     "execution_count": 12,
     "metadata": {},
     "output_type": "execute_result"
    }
   ],
   "source": [
    "# evaluate on validation set\n",
    "with torch.no_grad():\n",
    "    emb = lookup[X_val]\n",
    "    hidden_out = emb.view(-1, num_emb * input_size) @ W1\n",
    "    hidden_norm = bn_gain * (hidden_out - bn_mean_total) / bn_std_total + bn_bias\n",
    "    hidden = torch.tanh(hidden_norm)\n",
    "    logits = hidden @ W2 + b2\n",
    "    val_loss = F.cross_entropy(logits, Y_val)\n",
    "\n",
    "val_loss"
   ]
  },
  {
   "cell_type": "code",
   "execution_count": 13,
   "metadata": {},
   "outputs": [
    {
     "name": "stdout",
     "output_type": "stream",
     "text": [
      "zila.\n",
      "marsony.\n",
      "ditan.\n",
      "dair.\n",
      "aletil.\n",
      "nriydah.\n",
      "jami.\n",
      "coabredde.\n",
      "myli.\n",
      "khirenis.\n"
     ]
    }
   ],
   "source": [
    "# create words from the trained model\n",
    "\n",
    "# sample 10 words\n",
    "for i in range(10):\n",
    "    created_word = []\n",
    "\n",
    "    # init input with all '.' to predict the first char\n",
    "    input = [0] * input_size\n",
    "\n",
    "    # sample and create one word\n",
    "    while True:\n",
    "        # embed input\n",
    "        emb = lookup[torch.tensor([input])]\n",
    "\n",
    "        # forward pass\n",
    "        hidden_out = emb.view(1, -1) @ W1\n",
    "        hidden_norm = bn_gain * (hidden_out - bn_mean_total) / bn_std_total + bn_bias\n",
    "        hidden = torch.tanh(hidden_norm)\n",
    "        logits = hidden @ W2 + b2\n",
    "\n",
    "        # softmax logits to get probabilities\n",
    "        proba = F.softmax(logits, dim=1)\n",
    "\n",
    "        # sample a char from the probability\n",
    "        idx = torch.multinomial(proba, num_samples=1, generator=generator).item()\n",
    "\n",
    "        # append the char\n",
    "        created_word.append(itoc[idx])\n",
    "\n",
    "        # shift the input by one char\n",
    "        input = input[1:] + [idx]\n",
    "\n",
    "        if idx == 0:\n",
    "            break\n",
    "\n",
    "    # print the sampled word\n",
    "    print(''.join(created_word))"
   ]
  },
  {
   "attachments": {},
   "cell_type": "markdown",
   "metadata": {},
   "source": [
    "# Torchify"
   ]
  },
  {
   "cell_type": "code",
   "execution_count": 14,
   "metadata": {},
   "outputs": [],
   "source": [
    "# Linear layer, simplified version of torch.nn.linear\n",
    "class Linear:\n",
    "    \n",
    "    def __init__(self, fan_in, fan_out, bias=True):\n",
    "        # kaiming init weights\n",
    "        self.weight = torch.randn((fan_in, fan_out), generator=generator) / fan_in**0.5\n",
    "        # init bias to 0 (no need bias if a batch norm layer follows)\n",
    "        self.bias = torch.zeros(fan_out) if bias else None\n",
    "\n",
    "    # linear layer is wx+b\n",
    "    def __call__(self, x):\n",
    "        self.out = x @ self.weight\n",
    "        if self.bias is not None:\n",
    "            self.out += self.bias\n",
    "        return self.out\n",
    "\n",
    "    # function to return all the trainable parameters of this layer\n",
    "    def parameters(self):\n",
    "        return [self.weight] + ([] if self.bias is None else [self.bias])"
   ]
  },
  {
   "cell_type": "code",
   "execution_count": 15,
   "metadata": {},
   "outputs": [],
   "source": [
    "# batch norm layer, simplified version of torch.nn.BatchNorm1D\n",
    "class BatchNorm1D:\n",
    "\n",
    "    def __init__(self, dim, eps=1e-5, momentum=0.1, training=True):\n",
    "        self.eps = eps\n",
    "        self.momentum = momentum\n",
    "\n",
    "        # batch norm runs differently depending if training, or eval/testing, so need this\n",
    "        self.training = training\n",
    "\n",
    "        # batch_norm scale and shift, trained by backprop\n",
    "        self.gamma = torch.ones(dim)    # it's like weight\n",
    "        self.beta = torch.zeros(dim)    # it's like bias\n",
    "\n",
    "        # running batch norm mean and std of the full training dataset, calculated as training runs\n",
    "        self.running_mean = torch.zeros(dim)    # unit gaussian, mean = 0\n",
    "        self.running_var = torch.ones(dim)      # unit gaussian, std = 1\n",
    "\n",
    "    def __call__(self, x):\n",
    "        if self.training:\n",
    "            # if training, use the mean and std of the training batch\n",
    "            bn_mean = x.mean(dim=0, keepdim=True)\n",
    "            bn_var = x.var(dim=0, keepdim=True)\n",
    "        else:\n",
    "            # else use the mean and std of the full training dataset, calulcated during the training\n",
    "            bn_mean = self.running_mean\n",
    "            bn_var = self.running_var\n",
    "\n",
    "        x_norm = (x - bn_mean) / torch.sqrt(bn_var + self.eps)  # normalize to unit variance, from batch norm paper\n",
    "        self.out = self.gamma * x_norm + self.beta  # scale and shift\n",
    "\n",
    "        # track the running mean and std of the full training dataset, during training only\n",
    "        if self.training:\n",
    "            # no need gradient\n",
    "            with torch.no_grad():\n",
    "                self.running_mean = (1 - self.momentum) * self.running_mean + self.momentum * bn_mean\n",
    "                self.running_var = (1 - self.momentum) * self.running_var + self.momentum * bn_var\n",
    "\n",
    "        return self.out\n",
    "\n",
    "     # function to return all the trainable parameters of this layer\n",
    "    def parameters(self):\n",
    "        return [self.gamma, self.beta]"
   ]
  },
  {
   "cell_type": "code",
   "execution_count": 16,
   "metadata": {},
   "outputs": [],
   "source": [
    "# tanh activation\n",
    "class Tanh:\n",
    "\n",
    "    def __call__(self, x):\n",
    "        self.out = torch.tanh(x)\n",
    "        return self.out\n",
    "    \n",
    "    def parameters(self):\n",
    "        return []"
   ]
  },
  {
   "cell_type": "code",
   "execution_count": 17,
   "metadata": {},
   "outputs": [
    {
     "name": "stdout",
     "output_type": "stream",
     "text": [
      "46924\n"
     ]
    }
   ],
   "source": [
    "# create a MLP model, with more hidden layers\n",
    "num_emb = 10\n",
    "num_hidden = 100\n",
    "vocab_size = 27  # 27 chars\n",
    "\n",
    "lookup = torch.randn((vocab_size, num_emb), generator=generator)  # the look up table from 27 chars to 10D\n",
    "layers = [\n",
    "    Linear(num_emb * input_size, num_hidden), Tanh(),\n",
    "    Linear(num_hidden, num_hidden, bias=False), BatchNorm1D(num_hidden), Tanh(),\n",
    "    Linear(num_hidden, num_hidden, bias=False), BatchNorm1D(num_hidden), Tanh(),\n",
    "    Linear(num_hidden, num_hidden, bias=False), BatchNorm1D(num_hidden), Tanh(),\n",
    "    Linear(num_hidden, num_hidden, bias=False), BatchNorm1D(num_hidden), Tanh(),\n",
    "    Linear(num_hidden, vocab_size, bias=False), BatchNorm1D(vocab_size)\n",
    "]\n",
    "\n",
    "# get all trainable parameters\n",
    "parameters = [lookup] + [p for layer in layers for p in layer.parameters()]\n",
    "print(sum(p.nelement() for p in parameters))\n",
    "for p in parameters:\n",
    "    p.requires_grad = True"
   ]
  },
  {
   "cell_type": "code",
   "execution_count": 18,
   "metadata": {},
   "outputs": [
    {
     "name": "stdout",
     "output_type": "stream",
     "text": [
      "      0/ 200000: 3.6111\n",
      "  10000/ 200000: 2.2454\n",
      "  20000/ 200000: 2.5648\n",
      "  30000/ 200000: 2.2262\n",
      "  40000/ 200000: 2.1577\n",
      "  50000/ 200000: 2.4081\n",
      "  60000/ 200000: 2.0779\n",
      "  70000/ 200000: 1.9741\n",
      "  80000/ 200000: 2.1684\n",
      "  90000/ 200000: 2.2641\n",
      " 100000/ 200000: 1.9830\n",
      " 110000/ 200000: 1.9917\n",
      " 120000/ 200000: 2.0408\n",
      " 130000/ 200000: 1.9760\n",
      " 140000/ 200000: 1.9985\n",
      " 150000/ 200000: 2.0207\n",
      " 160000/ 200000: 2.0675\n",
      " 170000/ 200000: 1.8161\n",
      " 180000/ 200000: 1.7003\n",
      " 190000/ 200000: 1.6085\n"
     ]
    },
    {
     "data": {
      "text/plain": [
       "tensor(2.2023, grad_fn=<NllLossBackward0>)"
      ]
     },
     "execution_count": 18,
     "metadata": {},
     "output_type": "execute_result"
    }
   ],
   "source": [
    "# train\n",
    "MAX_EPOCH = 200000\n",
    "batch_size = 32\n",
    "\n",
    "epochs = []\n",
    "losses = []\n",
    "\n",
    "for epoch in range(MAX_EPOCH):\n",
    "    # create minibatch training data for this pass\n",
    "    batch_idx = torch.randint(0, X_train.shape[0], (batch_size,))\n",
    "\n",
    "    # embed inputs\n",
    "    emb = lookup[X_train[batch_idx]]\n",
    "    x = emb.view(-1, num_emb * input_size)  # concat into 1D vector\n",
    "\n",
    "    # forward pass\n",
    "    for layer in layers:\n",
    "        x = layer(x)\n",
    "\n",
    "    # cross entropy loss, which is just softmax(logits) to get probability, then average negative log likelihood of the probability\n",
    "    loss = F.cross_entropy(x, Y_train[batch_idx])\n",
    "\n",
    "    # reset gradients\n",
    "    for p in parameters:\n",
    "        p.grad = None\n",
    "    \n",
    "    loss.backward()  # backprop to calculate gradients\n",
    "\n",
    "    # lr decay\n",
    "    lr = 0.1 if epoch < 0.5 * MAX_EPOCH else 0.01\n",
    "\n",
    "    # update params\n",
    "    for p in parameters:\n",
    "        p.data += -lr * p.grad\n",
    "\n",
    "    # stats\n",
    "    epochs.append(epoch)\n",
    "    losses.append(loss.item())\n",
    "    if epoch % log_epoch == 0:\n",
    "        print(f'{epoch:7d}/{MAX_EPOCH:7d}: {loss.item():.4f}')\n",
    "\n",
    "loss"
   ]
  },
  {
   "cell_type": "code",
   "execution_count": null,
   "metadata": {},
   "outputs": [],
   "source": []
  }
 ],
 "metadata": {
  "kernelspec": {
   "display_name": "pytorch",
   "language": "python",
   "name": "python3"
  },
  "language_info": {
   "codemirror_mode": {
    "name": "ipython",
    "version": 3
   },
   "file_extension": ".py",
   "mimetype": "text/x-python",
   "name": "python",
   "nbconvert_exporter": "python",
   "pygments_lexer": "ipython3",
   "version": "3.9.13"
  },
  "orig_nbformat": 4,
  "vscode": {
   "interpreter": {
    "hash": "492015c89e27cc3e5a8c578383431dd8443ebbc21376cec0740bf401bea83bd7"
   }
  }
 },
 "nbformat": 4,
 "nbformat_minor": 2
}
