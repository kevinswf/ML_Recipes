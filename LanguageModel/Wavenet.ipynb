{
 "cells": [
  {
   "cell_type": "code",
   "execution_count": 1,
   "metadata": {},
   "outputs": [],
   "source": [
    "import torch\n",
    "import torch.nn.functional as F\n",
    "\n",
    "import matplotlib.pyplot as plt\n",
    "import random"
   ]
  },
  {
   "attachments": {},
   "cell_type": "markdown",
   "metadata": {},
   "source": [
    "# Data"
   ]
  },
  {
   "cell_type": "code",
   "execution_count": 2,
   "metadata": {},
   "outputs": [],
   "source": [
    "# read data and split by each line\n",
    "words = open('names.txt', 'r').read().splitlines()"
   ]
  },
  {
   "cell_type": "code",
   "execution_count": 3,
   "metadata": {},
   "outputs": [
    {
     "data": {
      "text/plain": [
       "32033"
      ]
     },
     "execution_count": 3,
     "metadata": {},
     "output_type": "execute_result"
    }
   ],
   "source": [
    "len(words)"
   ]
  },
  {
   "cell_type": "code",
   "execution_count": 4,
   "metadata": {},
   "outputs": [
    {
     "data": {
      "text/plain": [
       "['emma',\n",
       " 'olivia',\n",
       " 'ava',\n",
       " 'isabella',\n",
       " 'sophia',\n",
       " 'charlotte',\n",
       " 'mia',\n",
       " 'amelia',\n",
       " 'harper',\n",
       " 'evelyn']"
      ]
     },
     "execution_count": 4,
     "metadata": {},
     "output_type": "execute_result"
    }
   ],
   "source": [
    "words[:10]"
   ]
  },
  {
   "attachments": {},
   "cell_type": "markdown",
   "metadata": {},
   "source": [
    "#### Vocab of char to int mapping and int to char"
   ]
  },
  {
   "cell_type": "code",
   "execution_count": 5,
   "metadata": {},
   "outputs": [
    {
     "name": "stdout",
     "output_type": "stream",
     "text": [
      "{1: 'a', 2: 'b', 3: 'c', 4: 'd', 5: 'e', 6: 'f', 7: 'g', 8: 'h', 9: 'i', 10: 'j', 11: 'k', 12: 'l', 13: 'm', 14: 'n', 15: 'o', 16: 'p', 17: 'q', 18: 'r', 19: 's', 20: 't', 21: 'u', 22: 'v', 23: 'w', 24: 'x', 25: 'y', 26: 'z', 0: '.'}\n"
     ]
    }
   ],
   "source": [
    "# get all the unique chars in the dataset\n",
    "chars = sorted(list(set(''.join(words))))  # set removes duplicate chars and keep unique\n",
    "# map each char to a int\n",
    "ctoi = {c: i+1 for i, c in enumerate(chars)}\n",
    "# add a special char, for constructing bigrams of the first and last character in a word\n",
    "ctoi['.'] = 0\n",
    "\n",
    "# int to char\n",
    "itoc = {i: c for c, i in ctoi.items()}\n",
    "\n",
    "print(itoc)"
   ]
  },
  {
   "cell_type": "code",
   "execution_count": 6,
   "metadata": {},
   "outputs": [
    {
     "name": "stdout",
     "output_type": "stream",
     "text": [
      "torch.Size([182625, 8]) torch.Size([182625])\n",
      "torch.Size([22655, 8]) torch.Size([22655])\n",
      "torch.Size([22866, 8]) torch.Size([22866])\n"
     ]
    }
   ],
   "source": [
    "# build dataset\n",
    "input_size = 8  # context length, i.e. how many input chars to take to predict the next one\n",
    "def build_dataset(words):\n",
    "    X, Y = [], []\n",
    "\n",
    "    for word in words:\n",
    "        input = [0] * input_size  # pad the full input with '.' to predict the first char\n",
    "        \n",
    "        # iterate through the chars in the word, to add to X and Y, add the last special '.' char to predict end word\n",
    "        for char in word + '.':\n",
    "            # add the current input, i.e. the 3 chars, to X\n",
    "            X.append(input)\n",
    "\n",
    "            # add the next char as Y\n",
    "            ix = ctoi[char]\n",
    "            Y.append(ix)\n",
    "\n",
    "            # shift the input right by one char\n",
    "            input = input[1:] + [ix]\n",
    "\n",
    "    # convert to tensor\n",
    "    X = torch.tensor(X)\n",
    "    Y = torch.tensor(Y)\n",
    "    print(X.shape, Y.shape)\n",
    "\n",
    "    return X, Y\n",
    "\n",
    "random.seed(42)\n",
    "\n",
    "# shuffle the whole dataset\n",
    "random.shuffle(words)\n",
    "\n",
    "split1_idx = int(0.8 * len(words))\n",
    "split2_idx = int(0.9 * len(words))\n",
    "\n",
    "# create train, val, test set\n",
    "X_train, Y_train = build_dataset(words[:split1_idx])        # training set is for training the model parameters, i.e. weights and bias etc\n",
    "X_val, Y_val = build_dataset(words[split1_idx:split2_idx])  # validation set is for finding the hyperparameters, i.e. lr etc, and also validate no overfitting\n",
    "X_test, Y_test = build_dataset(words[split2_idx:])          # test set for evaluating the model on unseen data\n"
   ]
  },
  {
   "attachments": {},
   "cell_type": "markdown",
   "metadata": {},
   "source": [
    "# NN API"
   ]
  },
  {
   "cell_type": "code",
   "execution_count": 7,
   "metadata": {},
   "outputs": [],
   "source": [
    "# Linear layer, simplified version of torch.nn.linear\n",
    "class Linear:\n",
    "    \n",
    "    def __init__(self, fan_in, fan_out, bias=True):\n",
    "        # kaiming init weights\n",
    "        self.weight = torch.randn((fan_in, fan_out)) / fan_in**0.5\n",
    "        # init bias to 0 (no need bias if a batch norm layer follows)\n",
    "        self.bias = torch.zeros(fan_out) if bias else None\n",
    "\n",
    "    # linear layer is wx+b\n",
    "    def __call__(self, x):\n",
    "        self.out = x @ self.weight\n",
    "        if self.bias is not None:\n",
    "            self.out += self.bias\n",
    "        return self.out\n",
    "\n",
    "    # function to return all the trainable parameters of this layer\n",
    "    def parameters(self):\n",
    "        return [self.weight] + ([] if self.bias is None else [self.bias])\n",
    "\n",
    "# batch norm layer, simplified version of torch.nn.BatchNorm1D\n",
    "class BatchNorm1D:\n",
    "\n",
    "    def __init__(self, dim, eps=1e-5, momentum=0.1):\n",
    "        self.eps = eps\n",
    "        self.momentum = momentum\n",
    "\n",
    "        # batch norm runs differently depending if training, or eval/testing, so need this\n",
    "        self.training = True\n",
    "\n",
    "        # batch_norm scale and shift, trained by backprop\n",
    "        self.gamma = torch.ones(dim)    # it's like weight\n",
    "        self.beta = torch.zeros(dim)    # it's like bias\n",
    "\n",
    "        # running batch norm mean and std of the full training dataset, calculated as training runs\n",
    "        self.running_mean = torch.zeros(dim)    # unit gaussian, mean = 0\n",
    "        self.running_var = torch.ones(dim)      # unit gaussian, std = 1\n",
    "\n",
    "    def __call__(self, x):\n",
    "        if self.training:\n",
    "            # if training, use the mean and std of the training batch\n",
    "\n",
    "            # comput mean and std for all dimensions except the channel dimension, i.e. last\n",
    "            if x.ndim == 2:\n",
    "                dim = 0\n",
    "            elif x.ndim == 3:\n",
    "                dim = (0, 1)\n",
    "\n",
    "            bn_mean = x.mean(dim=dim, keepdim=True)\n",
    "            bn_var = x.var(dim=dim, keepdim=True)\n",
    "        else:\n",
    "            # else use the mean and std of the full training dataset, calulcated during the training\n",
    "            bn_mean = self.running_mean\n",
    "            bn_var = self.running_var\n",
    "\n",
    "        x_norm = (x - bn_mean) / torch.sqrt(bn_var + self.eps)  # normalize to unit variance, from batch norm paper\n",
    "        self.out = self.gamma * x_norm + self.beta  # scale and shift\n",
    "\n",
    "        # track the running mean and std of the full training dataset, during training only\n",
    "        if self.training:\n",
    "            # no need gradient\n",
    "            with torch.no_grad():\n",
    "                self.running_mean = (1 - self.momentum) * self.running_mean + self.momentum * bn_mean\n",
    "                self.running_var = (1 - self.momentum) * self.running_var + self.momentum * bn_var\n",
    "\n",
    "        return self.out\n",
    "\n",
    "     # function to return all the trainable parameters of this layer\n",
    "    def parameters(self):\n",
    "        return [self.gamma, self.beta]\n",
    "\n",
    "# tanh activation\n",
    "class Tanh:\n",
    "\n",
    "    def __call__(self, x):\n",
    "        self.out = torch.tanh(x)\n",
    "        return self.out\n",
    "    \n",
    "    def parameters(self):\n",
    "        return []\n",
    "\n",
    "# embedding layer, simplified version of torch.nn.Embedding\n",
    "class Embedding:\n",
    "\n",
    "    def __init__(self, num_embedding, embedding_dim):\n",
    "        self.weight = torch.randn((num_embedding, embedding_dim))\n",
    "\n",
    "    def __call__(self, idx):\n",
    "        self.out = self.weight[idx]\n",
    "        return self.out\n",
    "\n",
    "    def parameters(self):\n",
    "        return []\n",
    "\n",
    "# Flatten layer, simplified version of torch.nn.Flatten\n",
    "class Flatten:\n",
    "\n",
    "    def __call__(self, x):\n",
    "        self.out = x.view(x.shape[0], -1)\n",
    "        return self.out\n",
    "\n",
    "    def parameters(self):\n",
    "        return []\n",
    "\n",
    "# flattens consecutive inputs, i.e. (1, 2) (3, 4) (5, 6), for WaveNet, which takes 2 consecutives\n",
    "class FlattenConsecutive:\n",
    "\n",
    "    def __init__(self, num_consecutive):\n",
    "        self.num_consecutive = num_consecutive\n",
    "\n",
    "    def __call__(self, x):\n",
    "        batch, char, vocab = x.shape        # each input is (batch, char_num, vocab_size)\n",
    "\n",
    "        # flattens consecutive \n",
    "        x = x.view(batch, char//self.num_consecutive, vocab * self.num_consecutive)\n",
    "\n",
    "        # if set consecutive as all chars, i.e. take as one input, squeeze that dimension\n",
    "        if x.shape[1] == 1:\n",
    "            x = x.squeeze(dim=1)\n",
    "    \n",
    "        self.out = x\n",
    "        return self.out\n",
    "\n",
    "    def parameters(self):\n",
    "        return []\n",
    "\n",
    "# simplified version of torch.nn.Sequential\n",
    "class Sequential:\n",
    "\n",
    "    def __init__(self, layers):\n",
    "        self.layers = layers\n",
    "\n",
    "    def __call__(self, x):\n",
    "        for layer in self.layers:\n",
    "            x = layer(x)\n",
    "        self.out = x\n",
    "        return self.out\n",
    "\n",
    "    # all the parameters in all the layers\n",
    "    def parameters(self):\n",
    "        return [p for layer in self.layers for p in layer.parameters()]"
   ]
  },
  {
   "attachments": {},
   "cell_type": "markdown",
   "metadata": {},
   "source": [
    "# WaveNet"
   ]
  },
  {
   "cell_type": "code",
   "execution_count": 8,
   "metadata": {},
   "outputs": [
    {
     "data": {
      "text/plain": [
       "<torch._C.Generator at 0x29e86aad190>"
      ]
     },
     "execution_count": 8,
     "metadata": {},
     "output_type": "execute_result"
    }
   ],
   "source": [
    "torch.manual_seed(42)"
   ]
  },
  {
   "cell_type": "code",
   "execution_count": 9,
   "metadata": {},
   "outputs": [
    {
     "name": "stdout",
     "output_type": "stream",
     "text": [
      "75931\n"
     ]
    }
   ],
   "source": [
    "num_emb = 24\n",
    "num_hidden = 128\n",
    "vocab_size = 27  # 27 chars\n",
    "wavenet_block_size = 2  # from wavenet paper\n",
    "\n",
    "# model architecture, WaveNet\n",
    "model = Sequential([\n",
    "    Embedding(vocab_size, num_emb),\n",
    "    FlattenConsecutive(wavenet_block_size), Linear(num_emb * wavenet_block_size, num_hidden, bias=False), BatchNorm1D(num_hidden), Tanh(),\n",
    "    FlattenConsecutive(wavenet_block_size), Linear(num_hidden * wavenet_block_size, num_hidden, bias=False), BatchNorm1D(num_hidden), Tanh(),\n",
    "    FlattenConsecutive(wavenet_block_size), Linear(num_hidden * wavenet_block_size, num_hidden, bias=False), BatchNorm1D(num_hidden), Tanh(),\n",
    "    Linear(num_hidden, vocab_size)\n",
    "])\n",
    "\n",
    "# when init, make output layer less confident, i.e. less weights\n",
    "with torch.no_grad():\n",
    "    model.layers[-1].weight *= 0.1\n",
    "\n",
    "parameters = model.parameters()\n",
    "print(sum(p.nelement() for p in parameters))\n",
    "for p in parameters:\n",
    "    p.requires_grad = True"
   ]
  },
  {
   "cell_type": "code",
   "execution_count": 10,
   "metadata": {},
   "outputs": [
    {
     "name": "stdout",
     "output_type": "stream",
     "text": [
      "      0/ 200000: 3.3167\n",
      "  10000/ 200000: 2.0946\n",
      "  20000/ 200000: 2.0814\n",
      "  30000/ 200000: 2.5146\n",
      "  40000/ 200000: 2.0757\n",
      "  50000/ 200000: 1.7618\n",
      "  60000/ 200000: 2.2974\n",
      "  70000/ 200000: 1.9953\n",
      "  80000/ 200000: 1.6809\n",
      "  90000/ 200000: 2.0970\n",
      " 100000/ 200000: 1.8306\n",
      " 110000/ 200000: 1.9265\n",
      " 120000/ 200000: 1.5950\n",
      " 130000/ 200000: 1.8038\n",
      " 140000/ 200000: 1.7650\n",
      " 150000/ 200000: 1.7267\n",
      " 160000/ 200000: 1.7946\n",
      " 170000/ 200000: 1.8133\n",
      " 180000/ 200000: 1.6905\n",
      " 190000/ 200000: 1.9400\n"
     ]
    },
    {
     "data": {
      "text/plain": [
       "tensor(1.8264, grad_fn=<NllLossBackward0>)"
      ]
     },
     "execution_count": 10,
     "metadata": {},
     "output_type": "execute_result"
    }
   ],
   "source": [
    "# train\n",
    "MAX_EPOCH = 200000\n",
    "batch_size = 32\n",
    "log_epoch = 10000\n",
    "\n",
    "epochs = []\n",
    "losses = []\n",
    "\n",
    "for epoch in range(MAX_EPOCH):\n",
    "    # create minibatch training data for this pass\n",
    "    batch_idx = torch.randint(0, X_train.shape[0], (batch_size,))\n",
    "    \n",
    "    # forward pass\n",
    "    logits = model(X_train[batch_idx])\n",
    "\n",
    "    # cross entropy loss, which is just softmax(logits) to get probability, then average negative log likelihood of the probability\n",
    "    loss = F.cross_entropy(logits, Y_train[batch_idx])\n",
    "\n",
    "    # reset gradients\n",
    "    for p in parameters:\n",
    "        p.grad = None\n",
    "    \n",
    "    loss.backward()  # backprop to calculate gradients\n",
    "\n",
    "    # lr decay\n",
    "    lr = 0.1 if epoch < 0.5 * MAX_EPOCH else 0.01\n",
    "\n",
    "    # update params\n",
    "    for p in parameters:\n",
    "        p.data += -lr * p.grad\n",
    "\n",
    "    # stats\n",
    "    epochs.append(epoch)\n",
    "    losses.append(loss.item())\n",
    "    if epoch % log_epoch == 0:\n",
    "        print(f'{epoch:7d}/{MAX_EPOCH:7d}: {loss.item():.4f}')\n",
    "\n",
    "loss"
   ]
  },
  {
   "cell_type": "code",
   "execution_count": 11,
   "metadata": {},
   "outputs": [
    {
     "data": {
      "text/plain": [
       "[<matplotlib.lines.Line2D at 0x29ea5e95a60>]"
      ]
     },
     "execution_count": 11,
     "metadata": {},
     "output_type": "execute_result"
    },
    {
     "data": {
      "image/png": "[encoded data removed]",
      "text/plain": [
       "<Figure size 640x480 with 1 Axes>"
      ]
     },
     "metadata": {},
     "output_type": "display_data"
    }
   ],
   "source": [
    "# plot the loss by averaging every 1000 epochs\n",
    "plt.plot(torch.tensor(losses).view(-1, 1000).mean(dim=1))"
   ]
  },
  {
   "cell_type": "code",
   "execution_count": 12,
   "metadata": {},
   "outputs": [
    {
     "name": "stdout",
     "output_type": "stream",
     "text": [
      "train 1.8024470806121826\n",
      "val 1.9944995641708374\n"
     ]
    }
   ],
   "source": [
    "# after training, set each layer to eval mode (for batch norm especially)\n",
    "for layer in model.layers:\n",
    "    layer.training = False\n",
    "\n",
    "# function to eval loss on any split\n",
    "def split_loss(split):\n",
    "    # get the split data\n",
    "    X, Y = {\n",
    "        'train': (X_train, Y_train),\n",
    "        'val': (X_val, Y_val),\n",
    "        'test': (X_test, Y_test)\n",
    "    }[split]\n",
    "\n",
    "    # predict\n",
    "    logits = model(X)\n",
    "\n",
    "    loss = F.cross_entropy(logits, Y)\n",
    "    print(split, loss.item())\n",
    "\n",
    "split_loss('train')\n",
    "split_loss('val')"
   ]
  },
  {
   "cell_type": "code",
   "execution_count": null,
   "metadata": {},
   "outputs": [],
   "source": []
  }
 ],
 "metadata": {
  "kernelspec": {
   "display_name": "pytorch",
   "language": "python",
   "name": "python3"
  },
  "language_info": {
   "codemirror_mode": {
    "name": "ipython",
    "version": 3
   },
   "file_extension": ".py",
   "mimetype": "text/x-python",
   "name": "python",
   "nbconvert_exporter": "python",
   "pygments_lexer": "ipython3",
   "version": "3.9.13"
  },
  "orig_nbformat": 4,
  "vscode": {
   "interpreter": {
    "hash": "492015c89e27cc3e5a8c578383431dd8443ebbc21376cec0740bf401bea83bd7"
   }
  }
 },
 "nbformat": 4,
 "nbformat_minor": 2
}
